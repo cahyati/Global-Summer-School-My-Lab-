{
 "cells": [
  {
   "cell_type": "markdown",
   "metadata": {},
   "source": [
    "![image](resources/qgss-header.png)"
   ]
  },
  {
   "cell_type": "markdown",
   "metadata": {},
   "source": [
    "# Lab 9: Hardware-efficient trial states for variational quantum eigensolvers"
   ]
  },
  {
   "cell_type": "markdown",
   "metadata": {},
   "source": [
    "In this lab, we want to find the ground state energy of the following two-qubit Hamiltonian representing molecular $H_2$ at its equilibrium distance. Note that we have already mapped the fermionic operators onto qubits here.\n",
    "\n",
    "```\n",
    "h2_hamiltonian = (-1.0523732)  II + \n",
    "                 (0.39793742)  IZ + \n",
    "                 (-0.3979374)  ZI + \n",
    "                 (-0.0112801)  ZZ + \n",
    "                 (0.18093119)  XX\n",
    "```\n",
    "                \n",
    "Note that these co-efficients are functions of the interatomic distance between the atoms. A term like `IZ` is shorthand notation for a tensor product of two-qubit operators -- the identity operator ($I$) on one qubit and pauli-Z operator ($Z$) on the other qubit."
   ]
  },
  {
   "cell_type": "markdown",
   "metadata": {},
   "source": [
    "### Installing necessary packages\n",
    "\n",
    "Before we begin, you will need to install some prerequisites into your environment. Run the cell below to complete these installations. At the end, the cell outputs will be cleared."
   ]
  },
  {
   "cell_type": "code",
   "execution_count": 1,
   "metadata": {},
   "outputs": [
    {
     "name": "stdout",
     "output_type": "stream",
     "text": [
      "Requirement already satisfied, skipping upgrade: chardet<4,>=3.0.2 in c:\\users\\cahya\\anaconda3\\lib\\site-packages (from requests>=2.19->qiskit-ibmq-provider==0.7->-r grading_tools/requirements.txt (line 2)) (3.0.4)\n",
      "Requirement already satisfied, skipping upgrade: ntlm-auth>=1.0.2 in c:\\users\\cahya\\anaconda3\\lib\\site-packages (from requests-ntlm>=1.1.0->qiskit-ibmq-provider==0.7->-r grading_tools/requirements.txt (line 2)) (1.5.0)\n",
      "Requirement already satisfied, skipping upgrade: cryptography>=1.3 in c:\\users\\cahya\\anaconda3\\lib\\site-packages (from requests-ntlm>=1.1.0->qiskit-ibmq-provider==0.7->-r grading_tools/requirements.txt (line 2)) (2.9.2)\n",
      "Requirement already satisfied, skipping upgrade: six>=1.5 in c:\\users\\cahya\\anaconda3\\lib\\site-packages (from python-dateutil>=2.8.0->qiskit-ibmq-provider==0.7->-r grading_tools/requirements.txt (line 2)) (1.15.0)\n",
      "Requirement already satisfied, skipping upgrade: mpmath>=0.19 in c:\\users\\cahya\\anaconda3\\lib\\site-packages (from sympy>=1.3->qiskit-terra==0.14.0->qiskit==0.19->-r grading_tools/requirements.txt (line 1)) (1.1.0)\n",
      "Requirement already satisfied, skipping upgrade: pyrsistent>=0.14.0 in c:\\users\\cahya\\anaconda3\\lib\\site-packages (from jsonschema>=2.6->qiskit-terra==0.14.0->qiskit==0.19->-r grading_tools/requirements.txt (line 1)) (0.16.0)\n",
      "Requirement already satisfied, skipping upgrade: importlib-metadata; python_version < \"3.8\" in c:\\users\\cahya\\anaconda3\\lib\\site-packages (from jsonschema>=2.6->qiskit-terra==0.14.0->qiskit==0.19->-r grading_tools/requirements.txt (line 1)) (1.7.0)\n",
      "Requirement already satisfied, skipping upgrade: attrs>=17.4.0 in c:\\users\\cahya\\anaconda3\\lib\\site-packages (from jsonschema>=2.6->qiskit-terra==0.14.0->qiskit==0.19->-r grading_tools/requirements.txt (line 1)) (19.3.0)\n",
      "Requirement already satisfied, skipping upgrade: decorator>=4.3.0 in c:\\users\\cahya\\anaconda3\\lib\\site-packages (from networkx>=2.2; python_version > \"3.5\"->qiskit-terra==0.14.0->qiskit==0.19->-r grading_tools/requirements.txt (line 1)) (4.4.2)\n",
      "Requirement already satisfied, skipping upgrade: inflection>=0.3.1 in c:\\users\\cahya\\anaconda3\\lib\\site-packages (from quandl->qiskit-aqua==0.7.0->qiskit==0.19->-r grading_tools/requirements.txt (line 1)) (0.5.0)\n",
      "Requirement already satisfied, skipping upgrade: pandas>=0.14 in c:\\users\\cahya\\anaconda3\\lib\\site-packages (from quandl->qiskit-aqua==0.7.0->qiskit==0.19->-r grading_tools/requirements.txt (line 1)) (1.0.3)\n",
      "Requirement already satisfied, skipping upgrade: more-itertools in c:\\users\\cahya\\anaconda3\\lib\\site-packages (from quandl->qiskit-aqua==0.7.0->qiskit==0.19->-r grading_tools/requirements.txt (line 1)) (8.4.0)\n",
      "Requirement already satisfied, skipping upgrade: threadpoolctl>=2.0.0 in c:\\users\\cahya\\anaconda3\\lib\\site-packages (from scikit-learn>=0.20.0->qiskit-aqua==0.7.0->qiskit==0.19->-r grading_tools/requirements.txt (line 1)) (2.1.0)\n",
      "Requirement already satisfied, skipping upgrade: joblib>=0.11 in c:\\users\\cahya\\anaconda3\\lib\\site-packages (from scikit-learn>=0.20.0->qiskit-aqua==0.7.0->qiskit==0.19->-r grading_tools/requirements.txt (line 1)) (0.16.0)\n",
      "Requirement already satisfied, skipping upgrade: cffi!=1.11.3,>=1.8 in c:\\users\\cahya\\anaconda3\\lib\\site-packages (from cryptography>=1.3->requests-ntlm>=1.1.0->qiskit-ibmq-provider==0.7->-r grading_tools/requirements.txt (line 2)) (1.14.0)\n",
      "Requirement already satisfied, skipping upgrade: zipp>=0.5 in c:\\users\\cahya\\anaconda3\\lib\\site-packages (from importlib-metadata; python_version < \"3.8\"->jsonschema>=2.6->qiskit-terra==0.14.0->qiskit==0.19->-r grading_tools/requirements.txt (line 1)) (3.1.0)\n",
      "Requirement already satisfied, skipping upgrade: pytz>=2017.2 in c:\\users\\cahya\\anaconda3\\lib\\site-packages (from pandas>=0.14->quandl->qiskit-aqua==0.7.0->qiskit==0.19->-r grading_tools/requirements.txt (line 1)) (2020.1)\n",
      "Requirement already satisfied, skipping upgrade: pycparser in c:\\users\\cahya\\anaconda3\\lib\\site-packages (from cffi!=1.11.3,>=1.8->cryptography>=1.3->requests-ntlm>=1.1.0->qiskit-ibmq-provider==0.7->-r grading_tools/requirements.txt (line 2)) (2.20)\n"
     ]
    }
   ],
   "source": [
    "#!pip install -U -r grading_tools/requirements.txt\n",
    "!pip install -U qiskit==0.19\n",
    "!pip install -U qiskit-ibmq-provider==0.7\n",
    "\n",
    "from IPython.display import clear_output\n",
    "clear_output()"
   ]
  },
  {
   "cell_type": "markdown",
   "metadata": {},
   "source": [
    "# Hardware efficient trial states"
   ]
  },
  {
   "cell_type": "markdown",
   "metadata": {},
   "source": [
    "We need to prepare a guess for the ground state of this Hamiltonian. For this exercise, we will construct a hardware efficient trial state of depth `d=2`, with CNOT (`CX`) gates for the entanglers. We will interleave each entangling layer with a set of $R_yR_z$ gates on each qubit (total 4 layers). For the first guess, we will use rotation angles of $\\pi/2$ on all the $R_y$ and $R_z$ gates."
   ]
  },
  {
   "cell_type": "code",
   "execution_count": 2,
   "metadata": {},
   "outputs": [],
   "source": [
    "from numpy import pi\n",
    "from qiskit import QuantumCircuit, Aer, execute\n",
    "from qiskit.visualization import plot_histogram"
   ]
  },
  {
   "cell_type": "code",
   "execution_count": 3,
   "metadata": {},
   "outputs": [],
   "source": [
    "def prepare_hets_circuit(depth, angle1, angle2):\n",
    "\n",
    "    hets_circ = QuantumCircuit(depth)\n",
    "    hets_circ.ry(angle1, 0)\n",
    "    hets_circ.rz(angle1, 0)\n",
    "    hets_circ.ry(angle1, 1)\n",
    "    hets_circ.rz(angle1, 1)\n",
    "\n",
    "    for ii in range(depth):\n",
    "        hets_circ.cx(0,1)\n",
    "        hets_circ.ry(angle2,0)\n",
    "        hets_circ.rz(angle2,0)\n",
    "        hets_circ.ry(angle2,1)\n",
    "        hets_circ.rz(angle2,1)\n",
    "    \n",
    "    return hets_circ "
   ]
  },
  {
   "cell_type": "code",
   "execution_count": 4,
   "metadata": {},
   "outputs": [
    {
     "data": {
      "text/html": [
       "<pre style=\"word-wrap: normal;white-space: pre;background: #fff0;line-height: 1.1;font-family: &quot;Courier New&quot;,Courier,monospace\">     ┌──────────┐┌──────────┐     ┌──────────┐┌──────────┐     ┌──────────┐»\n",
       "q_0: ┤ RY(pi/2) ├┤ RZ(pi/2) ├──■──┤ RY(pi/2) ├┤ RZ(pi/2) ├──■──┤ RY(pi/2) ├»\n",
       "     ├──────────┤├──────────┤┌─┴─┐├──────────┤├──────────┤┌─┴─┐├──────────┤»\n",
       "q_1: ┤ RY(pi/2) ├┤ RZ(pi/2) ├┤ X ├┤ RY(pi/2) ├┤ RZ(pi/2) ├┤ X ├┤ RY(pi/2) ├»\n",
       "     └──────────┘└──────────┘└───┘└──────────┘└──────────┘└───┘└──────────┘»\n",
       "«     ┌──────────┐\n",
       "«q_0: ┤ RZ(pi/2) ├\n",
       "«     ├──────────┤\n",
       "«q_1: ┤ RZ(pi/2) ├\n",
       "«     └──────────┘</pre>"
      ],
      "text/plain": [
       "     ┌──────────┐┌──────────┐     ┌──────────┐┌──────────┐     ┌──────────┐»\n",
       "q_0: ┤ RY(pi/2) ├┤ RZ(pi/2) ├──■──┤ RY(pi/2) ├┤ RZ(pi/2) ├──■──┤ RY(pi/2) ├»\n",
       "     ├──────────┤├──────────┤┌─┴─┐├──────────┤├──────────┤┌─┴─┐├──────────┤»\n",
       "q_1: ┤ RY(pi/2) ├┤ RZ(pi/2) ├┤ X ├┤ RY(pi/2) ├┤ RZ(pi/2) ├┤ X ├┤ RY(pi/2) ├»\n",
       "     └──────────┘└──────────┘└───┘└──────────┘└──────────┘└───┘└──────────┘»\n",
       "«     ┌──────────┐\n",
       "«q_0: ┤ RZ(pi/2) ├\n",
       "«     ├──────────┤\n",
       "«q_1: ┤ RZ(pi/2) ├\n",
       "«     └──────────┘"
      ]
     },
     "execution_count": 4,
     "metadata": {},
     "output_type": "execute_result"
    }
   ],
   "source": [
    "hets_circuit = prepare_hets_circuit(2, pi/2, pi/2)\n",
    "hets_circuit.draw()"
   ]
  },
  {
   "cell_type": "markdown",
   "metadata": {},
   "source": [
    "# Measuring expectation values"
   ]
  },
  {
   "cell_type": "markdown",
   "metadata": {},
   "source": [
    "Next, we measure expectation values. **We will begin by measuring the ZZ expectation value, or $\\langle ZZ \\rangle$**. We will first create a copy of the `hets_circ` quantum circuit that we created above, and add measurements to it."
   ]
  },
  {
   "cell_type": "code",
   "execution_count": 5,
   "metadata": {},
   "outputs": [
    {
     "data": {
      "text/html": [
       "<pre style=\"word-wrap: normal;white-space: pre;background: #fff0;line-height: 1.1;font-family: &quot;Courier New&quot;,Courier,monospace\">        ┌──────────┐┌──────────┐     ┌──────────┐┌──────────┐     ┌──────────┐»\n",
       "   q_0: ┤ RY(pi/2) ├┤ RZ(pi/2) ├──■──┤ RY(pi/2) ├┤ RZ(pi/2) ├──■──┤ RY(pi/2) ├»\n",
       "        ├──────────┤├──────────┤┌─┴─┐├──────────┤├──────────┤┌─┴─┐├──────────┤»\n",
       "   q_1: ┤ RY(pi/2) ├┤ RZ(pi/2) ├┤ X ├┤ RY(pi/2) ├┤ RZ(pi/2) ├┤ X ├┤ RY(pi/2) ├»\n",
       "        └──────────┘└──────────┘└───┘└──────────┘└──────────┘└───┘└──────────┘»\n",
       "meas_0: ══════════════════════════════════════════════════════════════════════»\n",
       "                                                                              »\n",
       "meas_1: ══════════════════════════════════════════════════════════════════════»\n",
       "                                                                              »\n",
       "«        ┌──────────┐ ░ ┌─┐   \n",
       "«   q_0: ┤ RZ(pi/2) ├─░─┤M├───\n",
       "«        ├──────────┤ ░ └╥┘┌─┐\n",
       "«   q_1: ┤ RZ(pi/2) ├─░──╫─┤M├\n",
       "«        └──────────┘ ░  ║ └╥┘\n",
       "«meas_0: ════════════════╩══╬═\n",
       "«                           ║ \n",
       "«meas_1: ═══════════════════╩═\n",
       "«                             </pre>"
      ],
      "text/plain": [
       "        ┌──────────┐┌──────────┐     ┌──────────┐┌──────────┐     ┌──────────┐»\n",
       "   q_0: ┤ RY(pi/2) ├┤ RZ(pi/2) ├──■──┤ RY(pi/2) ├┤ RZ(pi/2) ├──■──┤ RY(pi/2) ├»\n",
       "        ├──────────┤├──────────┤┌─┴─┐├──────────┤├──────────┤┌─┴─┐├──────────┤»\n",
       "   q_1: ┤ RY(pi/2) ├┤ RZ(pi/2) ├┤ X ├┤ RY(pi/2) ├┤ RZ(pi/2) ├┤ X ├┤ RY(pi/2) ├»\n",
       "        └──────────┘└──────────┘└───┘└──────────┘└──────────┘└───┘└──────────┘»\n",
       "meas_0: ══════════════════════════════════════════════════════════════════════»\n",
       "                                                                              »\n",
       "meas_1: ══════════════════════════════════════════════════════════════════════»\n",
       "                                                                              »\n",
       "«        ┌──────────┐ ░ ┌─┐   \n",
       "«   q_0: ┤ RZ(pi/2) ├─░─┤M├───\n",
       "«        ├──────────┤ ░ └╥┘┌─┐\n",
       "«   q_1: ┤ RZ(pi/2) ├─░──╫─┤M├\n",
       "«        └──────────┘ ░  ║ └╥┘\n",
       "«meas_0: ════════════════╩══╬═\n",
       "«                           ║ \n",
       "«meas_1: ═══════════════════╩═\n",
       "«                             "
      ]
     },
     "execution_count": 5,
     "metadata": {},
     "output_type": "execute_result"
    }
   ],
   "source": [
    "def measure_zz_circuit(given_circuit):\n",
    "    zz_meas = given_circuit.copy()\n",
    "    zz_meas.measure_all()\n",
    "    return zz_meas\n",
    "\n",
    "zz_meas = measure_zz_circuit(hets_circuit)\n",
    "zz_meas.draw()"
   ]
  },
  {
   "cell_type": "markdown",
   "metadata": {},
   "source": [
    "Next, let's execute this quantum circuit and see the measurement outcomes."
   ]
  },
  {
   "cell_type": "code",
   "execution_count": 19,
   "metadata": {},
   "outputs": [],
   "source": [
    "simulator = Aer.get_backend('qasm_simulator')"
   ]
  },
  {
   "cell_type": "code",
   "execution_count": 20,
   "metadata": {},
   "outputs": [
    {
     "data": {
      "image/png": "[encoded data removed]",
      "text/plain": [
       "<Figure size 504x360 with 1 Axes>"
      ]
     },
     "execution_count": 20,
     "metadata": {},
     "output_type": "execute_result"
    }
   ],
   "source": [
    "result = execute(zz_meas, backend = simulator, shots=10000).result()\n",
    "counts = result.get_counts(zz_meas)\n",
    "\n",
    "plot_histogram(counts)"
   ]
  },
  {
   "cell_type": "markdown",
   "metadata": {},
   "source": [
    "We can analyze the counts and calculate the $\\langle ZZ \\rangle$ as follows:"
   ]
  },
  {
   "cell_type": "code",
   "execution_count": 21,
   "metadata": {},
   "outputs": [],
   "source": [
    "def measure_zz(given_circuit, num_shots = 10000):\n",
    "\n",
    "    zz_meas = measure_zz_circuit(given_circuit)\n",
    "    \n",
    "    result = execute(zz_meas, backend = simulator, shots = num_shots).result()\n",
    "    counts = result.get_counts(zz_meas)\n",
    "\n",
    "    if '00' not in counts:\n",
    "        counts['00'] = 0\n",
    "    if '01' not in counts:\n",
    "        counts['01'] = 0\n",
    "    if '10' not in counts:\n",
    "        counts['10'] = 0\n",
    "    if '11' not in counts:\n",
    "        counts['11'] = 0 \n",
    "\n",
    "    total_counts = counts['00'] + counts['11'] + counts['01'] + counts['10']\n",
    "    zz = counts['00'] + counts['11'] - counts['01'] - counts['10']\n",
    "    zz = zz / total_counts\n",
    "    \n",
    "    return zz"
   ]
  },
  {
   "cell_type": "code",
   "execution_count": 22,
   "metadata": {},
   "outputs": [
    {
     "name": "stdout",
     "output_type": "stream",
     "text": [
      "<ZZ> = -0.0036\n"
     ]
    }
   ],
   "source": [
    "zz = measure_zz(hets_circuit)\n",
    "print(\"<ZZ> =\", str(zz))"
   ]
  },
  {
   "cell_type": "markdown",
   "metadata": {},
   "source": [
    "**What about $\\langle ZI \\rangle$ and  $\\langle IZ \\rangle$? Do these need new circuits?**\n",
    "\n",
    "The answer is no, and they can be computed from the results above."
   ]
  },
  {
   "cell_type": "code",
   "execution_count": 23,
   "metadata": {},
   "outputs": [],
   "source": [
    "def measure_zi(given_circuit, num_shots = 10000):\n",
    "    \n",
    "    zz_meas = measure_zz_circuit(given_circuit)\n",
    "    \n",
    "    result = execute(zz_meas, backend = simulator, shots = num_shots).result()\n",
    "    counts = result.get_counts(zz_meas)\n",
    "\n",
    "    if '00' not in counts:\n",
    "        counts['00'] = 0\n",
    "    if '01' not in counts:\n",
    "        counts['01'] = 0\n",
    "    if '10' not in counts:\n",
    "        counts['10'] = 0\n",
    "    if '11' not in counts:\n",
    "        counts['11'] = 0 \n",
    "\n",
    "    total_counts = counts['00'] + counts['11'] + counts['01'] + counts['10']\n",
    "    \n",
    "    zi = counts['00'] - counts['11'] + counts['01'] - counts['10']\n",
    "    zi = zi / total_counts\n",
    "    \n",
    "    return zi\n",
    "\n",
    "def measure_iz(given_circuit, num_shots = 10000):\n",
    "    \n",
    "    zz_meas = measure_zz_circuit(given_circuit)\n",
    "    \n",
    "    result = execute(zz_meas, backend = simulator, shots = num_shots).result()\n",
    "    counts = result.get_counts(zz_meas)\n",
    "\n",
    "    if '00' not in counts:\n",
    "        counts['00'] = 0\n",
    "    if '01' not in counts:\n",
    "        counts['01'] = 0\n",
    "    if '10' not in counts:\n",
    "        counts['10'] = 0\n",
    "    if '11' not in counts:\n",
    "        counts['11'] = 0 \n",
    "\n",
    "    total_counts = counts['00'] + counts['11'] + counts['01'] + counts['10']\n",
    "    \n",
    "    iz = counts['00'] - counts['11'] - counts['01'] + counts['10']\n",
    "    iz = iz / total_counts\n",
    "    \n",
    "    return iz"
   ]
  },
  {
   "cell_type": "code",
   "execution_count": 24,
   "metadata": {},
   "outputs": [
    {
     "name": "stdout",
     "output_type": "stream",
     "text": [
      "<ZI> = -0.0072\n",
      "<IZ> = -0.0046\n"
     ]
    }
   ],
   "source": [
    "zi = measure_zi(hets_circuit)\n",
    "print(\"<ZI> =\", str(zi))\n",
    "\n",
    "iz = measure_iz(hets_circuit)\n",
    "print(\"<IZ> =\", str(iz))"
   ]
  },
  {
   "cell_type": "markdown",
   "metadata": {},
   "source": [
    "**Next, we measure $\\langle XX \\rangle$**"
   ]
  },
  {
   "cell_type": "code",
   "execution_count": 25,
   "metadata": {},
   "outputs": [],
   "source": [
    "def measure_xx_circuit(given_circuit):\n",
    "    xx_meas = given_circuit.copy()\n",
    "    \n",
    "    ### WRITE YOUR CODE BETWEEN THESE LINES - START\n",
    "    given_circuit.h(0)\n",
    "    given_circuit.h(1)\n",
    "    xx_meas.measure_all()\n",
    "    ### WRITE YOUR CODE BETWEEN THESE LINES - END\n",
    "\n",
    "    return xx_meas"
   ]
  },
  {
   "cell_type": "code",
   "execution_count": 26,
   "metadata": {},
   "outputs": [
    {
     "data": {
      "text/html": [
       "<pre style=\"word-wrap: normal;white-space: pre;background: #fff0;line-height: 1.1;font-family: &quot;Courier New&quot;,Courier,monospace\">        ┌──────────┐┌──────────┐     ┌──────────┐┌──────────┐     ┌──────────┐»\n",
       "   q_0: ┤ RY(pi/2) ├┤ RZ(pi/2) ├──■──┤ RY(pi/2) ├┤ RZ(pi/2) ├──■──┤ RY(pi/2) ├»\n",
       "        ├──────────┤├──────────┤┌─┴─┐├──────────┤├──────────┤┌─┴─┐├──────────┤»\n",
       "   q_1: ┤ RY(pi/2) ├┤ RZ(pi/2) ├┤ X ├┤ RY(pi/2) ├┤ RZ(pi/2) ├┤ X ├┤ RY(pi/2) ├»\n",
       "        └──────────┘└──────────┘└───┘└──────────┘└──────────┘└───┘└──────────┘»\n",
       "meas_0: ══════════════════════════════════════════════════════════════════════»\n",
       "                                                                              »\n",
       "meas_1: ══════════════════════════════════════════════════════════════════════»\n",
       "                                                                              »\n",
       "«        ┌──────────┐┌───┐┌───┐┌───┐┌───┐ ░ ┌─┐   \n",
       "«   q_0: ┤ RZ(pi/2) ├┤ H ├┤ H ├┤ H ├┤ H ├─░─┤M├───\n",
       "«        ├──────────┤├───┤├───┤├───┤├───┤ ░ └╥┘┌─┐\n",
       "«   q_1: ┤ RZ(pi/2) ├┤ H ├┤ H ├┤ H ├┤ H ├─░──╫─┤M├\n",
       "«        └──────────┘└───┘└───┘└───┘└───┘ ░  ║ └╥┘\n",
       "«meas_0: ════════════════════════════════════╩══╬═\n",
       "«                                               ║ \n",
       "«meas_1: ═══════════════════════════════════════╩═\n",
       "«                                                 </pre>"
      ],
      "text/plain": [
       "        ┌──────────┐┌──────────┐     ┌──────────┐┌──────────┐     ┌──────────┐»\n",
       "   q_0: ┤ RY(pi/2) ├┤ RZ(pi/2) ├──■──┤ RY(pi/2) ├┤ RZ(pi/2) ├──■──┤ RY(pi/2) ├»\n",
       "        ├──────────┤├──────────┤┌─┴─┐├──────────┤├──────────┤┌─┴─┐├──────────┤»\n",
       "   q_1: ┤ RY(pi/2) ├┤ RZ(pi/2) ├┤ X ├┤ RY(pi/2) ├┤ RZ(pi/2) ├┤ X ├┤ RY(pi/2) ├»\n",
       "        └──────────┘└──────────┘└───┘└──────────┘└──────────┘└───┘└──────────┘»\n",
       "meas_0: ══════════════════════════════════════════════════════════════════════»\n",
       "                                                                              »\n",
       "meas_1: ══════════════════════════════════════════════════════════════════════»\n",
       "                                                                              »\n",
       "«        ┌──────────┐┌───┐┌───┐┌───┐┌───┐ ░ ┌─┐   \n",
       "«   q_0: ┤ RZ(pi/2) ├┤ H ├┤ H ├┤ H ├┤ H ├─░─┤M├───\n",
       "«        ├──────────┤├───┤├───┤├───┤├───┤ ░ └╥┘┌─┐\n",
       "«   q_1: ┤ RZ(pi/2) ├┤ H ├┤ H ├┤ H ├┤ H ├─░──╫─┤M├\n",
       "«        └──────────┘└───┘└───┘└───┘└───┘ ░  ║ └╥┘\n",
       "«meas_0: ════════════════════════════════════╩══╬═\n",
       "«                                               ║ \n",
       "«meas_1: ═══════════════════════════════════════╩═\n",
       "«                                                 "
      ]
     },
     "execution_count": 26,
     "metadata": {},
     "output_type": "execute_result"
    }
   ],
   "source": [
    "xx_meas = measure_xx_circuit(hets_circuit)\n",
    "xx_meas.draw()"
   ]
  },
  {
   "cell_type": "code",
   "execution_count": 27,
   "metadata": {},
   "outputs": [
    {
     "name": "stdout",
     "output_type": "stream",
     "text": [
      "<XX> = -1.0\n"
     ]
    }
   ],
   "source": [
    "def measure_xx(given_circuit, num_shots = 10000):\n",
    "    \n",
    "    xx_meas = measure_xx_circuit(given_circuit)\n",
    "    \n",
    "    result = execute(xx_meas, backend = simulator, shots = num_shots).result()\n",
    "    counts = result.get_counts(xx_meas)\n",
    "\n",
    "    if '00' not in counts:\n",
    "        counts['00'] = 0\n",
    "    if '01' not in counts:\n",
    "        counts['01'] = 0\n",
    "    if '10' not in counts:\n",
    "        counts['10'] = 0\n",
    "    if '11' not in counts:\n",
    "        counts['11'] = 0\n",
    "\n",
    "    total_counts = counts['00'] + counts['11'] + counts['01'] + counts['10']\n",
    "    xx = counts['00'] + counts['11'] - counts['01'] - counts['10']\n",
    "    xx = xx / total_counts\n",
    "    \n",
    "    return xx\n",
    "\n",
    "xx = measure_xx(hets_circuit)\n",
    "print(\"<XX> =\", str(xx))"
   ]
  },
  {
   "cell_type": "markdown",
   "metadata": {},
   "source": [
    "### Now we evaluate the energy of the trial state"
   ]
  },
  {
   "cell_type": "code",
   "execution_count": 28,
   "metadata": {},
   "outputs": [],
   "source": [
    "def get_energy(given_circuit, num_shots = 10000):\n",
    "    \n",
    "    zz = measure_zz(given_circuit, num_shots = num_shots)\n",
    "    iz = measure_iz(given_circuit, num_shots = num_shots)\n",
    "    zi = measure_zi(given_circuit, num_shots = num_shots)\n",
    "    xx = measure_xx(given_circuit, num_shots = num_shots)\n",
    "    \n",
    "    energy = (-1.0523732)*1 + (0.39793742)*iz + (-0.3979374)*zi + (-0.0112801)*zz + (0.18093119)*xx\n",
    "    \n",
    "    return energy"
   ]
  },
  {
   "cell_type": "code",
   "execution_count": 29,
   "metadata": {},
   "outputs": [
    {
     "name": "stdout",
     "output_type": "stream",
     "text": [
      "The energy of the trial state is -1.0541510196219999\n"
     ]
    }
   ],
   "source": [
    "energy = get_energy(hets_circuit)\n",
    "print(\"The energy of the trial state is\", str(energy))"
   ]
  },
  {
   "cell_type": "markdown",
   "metadata": {},
   "source": [
    "# Computing gradients"
   ]
  },
  {
   "cell_type": "markdown",
   "metadata": {},
   "source": [
    "The objective of the next set of exercises is to compute the next set of angles to use for the trial state preparation. Create two quantum circuits using `prepare_hets_circuit(depth=2, angle2 = pi/2)` for measuring expectation values with values for `angle1 = pi/2 + 0.1*pi/2` and `angle1 = pi/2 - 0.1*pi/2`, and measure the energy of both trial states."
   ]
  },
  {
   "cell_type": "code",
   "execution_count": 17,
   "metadata": {},
   "outputs": [
    {
     "name": "stdout",
     "output_type": "stream",
     "text": [
      "     ┌────────────┐┌────────────┐     ┌──────────┐┌──────────┐     ┌──────────┐»\n",
      "q_0: ┤ RY(1.7279) ├┤ RZ(1.7279) ├──■──┤ RY(pi/2) ├┤ RZ(pi/2) ├──■──┤ RY(pi/2) ├»\n",
      "     ├────────────┤├────────────┤┌─┴─┐├──────────┤├──────────┤┌─┴─┐├──────────┤»\n",
      "q_1: ┤ RY(1.7279) ├┤ RZ(1.7279) ├┤ X ├┤ RY(pi/2) ├┤ RZ(pi/2) ├┤ X ├┤ RY(pi/2) ├»\n",
      "     └────────────┘└────────────┘└───┘└──────────┘└──────────┘└───┘└──────────┘»\n",
      "«     ┌──────────┐\n",
      "«q_0: ┤ RZ(pi/2) ├\n",
      "«     ├──────────┤\n",
      "«q_1: ┤ RZ(pi/2) ├\n",
      "«     └──────────┘\n",
      "     ┌────────────┐┌────────────┐     ┌──────────┐┌──────────┐     ┌──────────┐»\n",
      "q_0: ┤ RY(1.4137) ├┤ RZ(1.4137) ├──■──┤ RY(pi/2) ├┤ RZ(pi/2) ├──■──┤ RY(pi/2) ├»\n",
      "     ├────────────┤├────────────┤┌─┴─┐├──────────┤├──────────┤┌─┴─┐├──────────┤»\n",
      "q_1: ┤ RY(1.4137) ├┤ RZ(1.4137) ├┤ X ├┤ RY(pi/2) ├┤ RZ(pi/2) ├┤ X ├┤ RY(pi/2) ├»\n",
      "     └────────────┘└────────────┘└───┘└──────────┘└──────────┘└───┘└──────────┘»\n",
      "«     ┌──────────┐\n",
      "«q_0: ┤ RZ(pi/2) ├\n",
      "«     ├──────────┤\n",
      "«q_1: ┤ RZ(pi/2) ├\n",
      "«     └──────────┘\n",
      "<plus> = 0.15312\n",
      "<minus> = -0.1518\n"
     ]
    }
   ],
   "source": [
    "hets_circuit_plus = None\n",
    "hets_circuit_minus = None\n",
    "\n",
    "### WRITE YOUR CODE BETWEEN THESE LINES - START\n",
    "\n",
    "def hets_circuit_plus(depth, angle1, angle2):\n",
    "\n",
    "    hets_circ_plus = QuantumCircuit(depth)\n",
    "    hets_circ_plus.ry(angle1, 0)\n",
    "    hets_circ_plus.rz(angle1, 0)\n",
    "    hets_circ_plus.ry(angle1, 1)\n",
    "    hets_circ_plus.rz(angle1, 1)\n",
    "\n",
    "    for ii in range(depth):\n",
    "        hets_circ_plus.cx(0,1)\n",
    "        hets_circ_plus.ry(angle2,0)\n",
    "        hets_circ_plus.rz(angle2,0)\n",
    "        hets_circ_plus.ry(angle2,1)\n",
    "        hets_circ_plus.rz(angle2,1)\n",
    "    \n",
    "    return hets_circ_plus \n",
    "\n",
    "def hets_circuit_minus(depth, angle1, angle2):\n",
    "\n",
    "    hets_circ_minus = QuantumCircuit(depth)\n",
    "    hets_circ_minus.ry(angle1, 0)\n",
    "    hets_circ_minus.rz(angle1, 0)\n",
    "    hets_circ_minus.ry(angle1, 1)\n",
    "    hets_circ_minus.rz(angle1, 1)\n",
    "\n",
    "    for ii in range(depth):\n",
    "        hets_circ_minus.cx(0,1)\n",
    "        hets_circ_minus.ry(angle2,0)\n",
    "        hets_circ_minus.rz(angle2,0)\n",
    "        hets_circ_minus.ry(angle2,1)\n",
    "        hets_circ_minus.rz(angle2,1)\n",
    "    \n",
    "    return hets_circ_minus \n",
    "\n",
    "hets_circuit_plus = hets_circuit_plus(depth=2,angle1 = pi/2 + 0.1*pi/2, angle2 = pi/2)\n",
    "hets_circuit_minus = hets_circuit_minus(depth=2,angle1 = pi/2 - 0.1*pi/2, angle2 = pi/2)\n",
    "print(hets_circuit_plus)\n",
    "print(hets_circuit_minus)\n",
    "\n",
    "### WRITE YOUR CODE BETWEEN THESE LINES - END"
   ]
  },
  {
   "cell_type": "code",
   "execution_count": 30,
   "metadata": {},
   "outputs": [
    {
     "name": "stdout",
     "output_type": "stream",
     "text": [
      "-0.9600031637752001 -1.1304885633485997\n"
     ]
    }
   ],
   "source": [
    "\n",
    "energy_plus = get_energy(hets_circuit_plus, num_shots=100000)\n",
    "energy_minus = get_energy(hets_circuit_minus, num_shots=100000)\n",
    "\n",
    "print(energy_plus, energy_minus)"
   ]
  },
  {
   "cell_type": "markdown",
   "metadata": {},
   "source": [
    "As you can see, one of these is certainly lower energy than the other, and is also lower energy than the case when `angle1 = pi/2`. This is a suitable next point for our iteration of a variational eigensolver."
   ]
  },
  {
   "cell_type": "markdown",
   "metadata": {},
   "source": [
    "# Submitting your solutions for grading"
   ]
  },
  {
   "cell_type": "markdown",
   "metadata": {},
   "source": [
    "Now, grade your solution by running the cell below after filling in your name and email address. Always provide the same name and email as the one you used during registration to ensure consistency."
   ]
  },
  {
   "cell_type": "code",
   "execution_count": 18,
   "metadata": {},
   "outputs": [
    {
     "name": "stdout",
     "output_type": "stream",
     "text": [
      "Grading...\n",
      "lab9/ex1 - 🎉 Correct\n",
      "Grading...\n",
      "lab9/ex2 - 🎉 Correct\n",
      "Grading...\n",
      "lab9/ex3 - 🎉 Correct\n"
     ]
    }
   ],
   "source": [
    "name = <name>\n",
    "email = <email>\n",
    "\n",
    "### Do not change the lines below\n",
    "from grading_tools import grade\n",
    "\n",
    "grade(answer=measure_xx_circuit(hets_circuit), name=name, email=email, labid='lab9', exerciseid='ex1')\n",
    "grade(answer=hets_circuit_plus, name=name, email=email, labid='lab9', exerciseid='ex2')\n",
    "grade(answer=hets_circuit_minus, name=name, email=email, labid='lab9', exerciseid='ex3')"
   ]
  },
  {
   "cell_type": "markdown",
   "metadata": {},
   "source": [
    "**Help us improve our educational tools by submitting your code**<br>\n",
    "If you would like to help us learn how to improve our educational materials and offerings, you can opt in to send us a copy of your Jupyter notebook. By executing the cell below, you consent to sending us the code in your Jupyter notebook. All of the personal information will be anonymized."
   ]
  },
  {
   "cell_type": "code",
   "execution_count": 35,
   "metadata": {},
   "outputs": [
    {
     "data": {
      "application/javascript": [
       "IPython.notebook.save_checkpoint();"
      ],
      "text/plain": [
       "<IPython.core.display.Javascript object>"
      ]
     },
     "metadata": {},
     "output_type": "display_data"
    },
    {
     "name": "stdout",
     "output_type": "stream",
     "text": [
      "Sending ex1.ipynb ...\n",
      "Sent. Thanks!\n"
     ]
    }
   ],
   "source": [
    "from IPython.display import display, Javascript;display(Javascript('IPython.notebook.save_checkpoint();'));\n",
    "from grading_tools import send_code;send_code('ex1.ipynb')"
   ]
  },
  {
   "cell_type": "markdown",
   "metadata": {},
   "source": [
    "## Bonus 1"
   ]
  },
  {
   "cell_type": "markdown",
   "metadata": {},
   "source": [
    "While this is not graded, explore whether the decision above would be easy if your execution ran different numbers of shots. In particular, measure `energy_plus` and `energy_minus` again with `100`, `1000` and `10000` shots to explore how easy or difficult this decision gets with each one."
   ]
  },
  {
   "cell_type": "code",
   "execution_count": 32,
   "metadata": {},
   "outputs": [
    {
     "name": "stdout",
     "output_type": "stream",
     "text": [
      "     ┌────────────┐┌────────────┐     ┌──────────┐┌──────────┐     ┌──────────┐»\n",
      "q_0: ┤ RY(1.7279) ├┤ RZ(1.7279) ├──■──┤ RY(pi/2) ├┤ RZ(pi/2) ├──■──┤ RY(pi/2) ├»\n",
      "     ├────────────┤├────────────┤┌─┴─┐├──────────┤├──────────┤┌─┴─┐├──────────┤»\n",
      "q_1: ┤ RY(1.7279) ├┤ RZ(1.7279) ├┤ X ├┤ RY(pi/2) ├┤ RZ(pi/2) ├┤ X ├┤ RY(pi/2) ├»\n",
      "     └────────────┘└────────────┘└───┘└──────────┘└──────────┘└───┘└──────────┘»\n",
      "«     ┌──────────┐\n",
      "«q_0: ┤ RZ(pi/2) ├\n",
      "«     ├──────────┤\n",
      "«q_1: ┤ RZ(pi/2) ├\n",
      "«     └──────────┘\n",
      "     ┌────────────┐┌────────────┐     ┌──────────┐┌──────────┐     ┌──────────┐»\n",
      "q_0: ┤ RY(1.7279) ├┤ RZ(1.7279) ├──■──┤ RY(pi/2) ├┤ RZ(pi/2) ├──■──┤ RY(pi/2) ├»\n",
      "     ├────────────┤├────────────┤┌─┴─┐├──────────┤├──────────┤┌─┴─┐├──────────┤»\n",
      "q_1: ┤ RY(1.7279) ├┤ RZ(1.7279) ├┤ X ├┤ RY(pi/2) ├┤ RZ(pi/2) ├┤ X ├┤ RY(pi/2) ├»\n",
      "     └────────────┘└────────────┘└───┘└──────────┘└──────────┘└───┘└──────────┘»\n",
      "«     ┌──────────┐\n",
      "«q_0: ┤ RZ(pi/2) ├\n",
      "«     ├──────────┤\n",
      "«q_1: ┤ RZ(pi/2) ├\n",
      "«     └──────────┘\n",
      "     ┌────────────┐┌────────────┐     ┌──────────┐┌──────────┐     ┌──────────┐»\n",
      "q_0: ┤ RY(1.7279) ├┤ RZ(1.7279) ├──■──┤ RY(pi/2) ├┤ RZ(pi/2) ├──■──┤ RY(pi/2) ├»\n",
      "     ├────────────┤├────────────┤┌─┴─┐├──────────┤├──────────┤┌─┴─┐├──────────┤»\n",
      "q_1: ┤ RY(1.7279) ├┤ RZ(1.7279) ├┤ X ├┤ RY(pi/2) ├┤ RZ(pi/2) ├┤ X ├┤ RY(pi/2) ├»\n",
      "     └────────────┘└────────────┘└───┘└──────────┘└──────────┘└───┘└──────────┘»\n",
      "«     ┌──────────┐\n",
      "«q_0: ┤ RZ(pi/2) ├\n",
      "«     ├──────────┤\n",
      "«q_1: ┤ RZ(pi/2) ├\n",
      "«     └──────────┘\n",
      "     ┌────────────┐┌────────────┐     ┌──────────┐┌──────────┐     ┌──────────┐»\n",
      "q_0: ┤ RY(1.4137) ├┤ RZ(1.4137) ├──■──┤ RY(pi/2) ├┤ RZ(pi/2) ├──■──┤ RY(pi/2) ├»\n",
      "     ├────────────┤├────────────┤┌─┴─┐├──────────┤├──────────┤┌─┴─┐├──────────┤»\n",
      "q_1: ┤ RY(1.4137) ├┤ RZ(1.4137) ├┤ X ├┤ RY(pi/2) ├┤ RZ(pi/2) ├┤ X ├┤ RY(pi/2) ├»\n",
      "     └────────────┘└────────────┘└───┘└──────────┘└──────────┘└───┘└──────────┘»\n",
      "«     ┌──────────┐\n",
      "«q_0: ┤ RZ(pi/2) ├\n",
      "«     ├──────────┤\n",
      "«q_1: ┤ RZ(pi/2) ├\n",
      "«     └──────────┘\n",
      "     ┌────────────┐┌────────────┐     ┌──────────┐┌──────────┐     ┌──────────┐»\n",
      "q_0: ┤ RY(1.4137) ├┤ RZ(1.4137) ├──■──┤ RY(pi/2) ├┤ RZ(pi/2) ├──■──┤ RY(pi/2) ├»\n",
      "     ├────────────┤├────────────┤┌─┴─┐├──────────┤├──────────┤┌─┴─┐├──────────┤»\n",
      "q_1: ┤ RY(1.4137) ├┤ RZ(1.4137) ├┤ X ├┤ RY(pi/2) ├┤ RZ(pi/2) ├┤ X ├┤ RY(pi/2) ├»\n",
      "     └────────────┘└────────────┘└───┘└──────────┘└──────────┘└───┘└──────────┘»\n",
      "«     ┌──────────┐\n",
      "«q_0: ┤ RZ(pi/2) ├\n",
      "«     ├──────────┤\n",
      "«q_1: ┤ RZ(pi/2) ├\n",
      "«     └──────────┘\n",
      "     ┌────────────┐┌────────────┐     ┌──────────┐┌──────────┐     ┌──────────┐»\n",
      "q_0: ┤ RY(1.4137) ├┤ RZ(1.4137) ├──■──┤ RY(pi/2) ├┤ RZ(pi/2) ├──■──┤ RY(pi/2) ├»\n",
      "     ├────────────┤├────────────┤┌─┴─┐├──────────┤├──────────┤┌─┴─┐├──────────┤»\n",
      "q_1: ┤ RY(1.4137) ├┤ RZ(1.4137) ├┤ X ├┤ RY(pi/2) ├┤ RZ(pi/2) ├┤ X ├┤ RY(pi/2) ├»\n",
      "     └────────────┘└────────────┘└───┘└──────────┘└──────────┘└───┘└──────────┘»\n",
      "«     ┌──────────┐\n",
      "«q_0: ┤ RZ(pi/2) ├\n",
      "«     ├──────────┤\n",
      "«q_1: ┤ RZ(pi/2) ├\n",
      "«     └──────────┘\n"
     ]
    }
   ],
   "source": [
    "energy_plus_100, energy_plus_1000, energy_plus_10000 = 0, 0, 0\n",
    "energy_minus_100, energy_minus_1000, energy_minus_10000 = 0, 0, 0\n",
    "\n",
    "### WRITE YOUR CODE BETWEEN THESE LINES - START\n",
    "\n",
    "def hets_circuit_plus_100(depth, angle1, angle2):\n",
    "\n",
    "    hets_circ_plus_100 = QuantumCircuit(depth)\n",
    "    hets_circ_plus_100.ry(angle1, 0)\n",
    "    hets_circ_plus_100.rz(angle1, 0)\n",
    "    hets_circ_plus_100.ry(angle1, 1)\n",
    "    hets_circ_plus_100.rz(angle1, 1)\n",
    "\n",
    "    for ii in range(depth):\n",
    "        hets_circ_plus_100.cx(0,1)\n",
    "        hets_circ_plus_100.ry(angle2,0)\n",
    "        hets_circ_plus_100.rz(angle2,0)\n",
    "        hets_circ_plus_100.ry(angle2,1)\n",
    "        hets_circ_plus_100.rz(angle2,1)\n",
    "    \n",
    "    return hets_circ_plus_100 \n",
    "\n",
    "def hets_circuit_plus_1000(depth, angle1, angle2):\n",
    "\n",
    "    hets_circ_plus_1000 = QuantumCircuit(depth)\n",
    "    hets_circ_plus_1000.ry(angle1, 0)\n",
    "    hets_circ_plus_1000.rz(angle1, 0)\n",
    "    hets_circ_plus_1000.ry(angle1, 1)\n",
    "    hets_circ_plus_1000.rz(angle1, 1)\n",
    "\n",
    "    for ii in range(depth):\n",
    "        hets_circ_plus_1000.cx(0,1)\n",
    "        hets_circ_plus_1000.ry(angle2,0)\n",
    "        hets_circ_plus_1000.rz(angle2,0)\n",
    "        hets_circ_plus_1000.ry(angle2,1)\n",
    "        hets_circ_plus_1000.rz(angle2,1)\n",
    "    \n",
    "    return hets_circ_plus_1000\n",
    "\n",
    "def hets_circuit_plus_10000(depth, angle1, angle2):\n",
    "\n",
    "    hets_circ_plus_10000 = QuantumCircuit(depth)\n",
    "    hets_circ_plus_10000.ry(angle1, 0)\n",
    "    hets_circ_plus_10000.rz(angle1, 0)\n",
    "    hets_circ_plus_10000.ry(angle1, 1)\n",
    "    hets_circ_plus_10000.rz(angle1, 1)\n",
    "\n",
    "    for ii in range(depth):\n",
    "        hets_circ_plus_10000.cx(0,1)\n",
    "        hets_circ_plus_10000.ry(angle2,0)\n",
    "        hets_circ_plus_10000.rz(angle2,0)\n",
    "        hets_circ_plus_10000.ry(angle2,1)\n",
    "        hets_circ_plus_10000.rz(angle2,1)\n",
    "    \n",
    "    return hets_circ_plus_10000 \n",
    "\n",
    "def hets_circuit_minus_100(depth, angle1, angle2):\n",
    "\n",
    "    hets_circ_minus_100 = QuantumCircuit(depth)\n",
    "    hets_circ_minus_100.ry(angle1, 0)\n",
    "    hets_circ_minus_100.rz(angle1, 0)\n",
    "    hets_circ_minus_100.ry(angle1, 1)\n",
    "    hets_circ_minus_100.rz(angle1, 1)\n",
    "\n",
    "    for ii in range(depth):\n",
    "        hets_circ_minus_100.cx(0,1)\n",
    "        hets_circ_minus_100.ry(angle2,0)\n",
    "        hets_circ_minus_100.rz(angle2,0)\n",
    "        hets_circ_minus_100.ry(angle2,1)\n",
    "        hets_circ_minus_100.rz(angle2,1)\n",
    "    \n",
    "    return hets_circ_minus_100 \n",
    "\n",
    "def hets_circuit_minus_1000(depth, angle1, angle2):\n",
    "\n",
    "    hets_circ_minus_1000 = QuantumCircuit(depth)\n",
    "    hets_circ_minus_1000.ry(angle1, 0)\n",
    "    hets_circ_minus_1000.rz(angle1, 0)\n",
    "    hets_circ_minus_1000.ry(angle1, 1)\n",
    "    hets_circ_minus_1000.rz(angle1, 1)\n",
    "\n",
    "    for ii in range(depth):\n",
    "        hets_circ_minus_1000.cx(0,1)\n",
    "        hets_circ_minus_1000.ry(angle2,0)\n",
    "        hets_circ_minus_1000.rz(angle2,0)\n",
    "        hets_circ_minus_1000.ry(angle2,1)\n",
    "        hets_circ_minus_1000.rz(angle2,1)\n",
    "    \n",
    "    return hets_circ_minus_1000 \n",
    "\n",
    "def hets_circuit_minus_10000(depth, angle1, angle2):\n",
    "\n",
    "    hets_circ_minus_10000 = QuantumCircuit(depth)\n",
    "    hets_circ_minus_10000.ry(angle1, 0)\n",
    "    hets_circ_minus_10000.rz(angle1, 0)\n",
    "    hets_circ_minus_10000.ry(angle1, 1)\n",
    "    hets_circ_minus_10000.rz(angle1, 1)\n",
    "\n",
    "    for ii in range(depth):\n",
    "        hets_circ_minus_10000.cx(0,1)\n",
    "        hets_circ_minus_10000.ry(angle2,0)\n",
    "        hets_circ_minus_10000.rz(angle2,0)\n",
    "        hets_circ_minus_10000.ry(angle2,1)\n",
    "        hets_circ_minus_10000.rz(angle2,1)\n",
    "    \n",
    "    return hets_circ_minus_10000 \n",
    "\n",
    "hets_circuit_plus_100 = hets_circuit_plus_100(depth=2,angle1 = pi/2 + 0.1*pi/2, angle2 = pi/2)\n",
    "hets_circuit_plus_1000 = hets_circuit_plus_1000(depth=2,angle1 = pi/2 + 0.1*pi/2, angle2 = pi/2)\n",
    "hets_circuit_plus_10000 = hets_circuit_plus_10000(depth=2,angle1 = pi/2 + 0.1*pi/2, angle2 = pi/2)\n",
    "\n",
    "hets_circuit_minus_100 = hets_circuit_minus_100(depth=2,angle1 = pi/2 - 0.1*pi/2, angle2 = pi/2)\n",
    "hets_circuit_minus_1000 = hets_circuit_minus_1000(depth=2,angle1 = pi/2 - 0.1*pi/2, angle2 = pi/2)\n",
    "hets_circuit_minus_10000 = hets_circuit_minus_10000(depth=2,angle1 = pi/2 - 0.1*pi/2, angle2 = pi/2)\n",
    "\n",
    "print(hets_circuit_plus_100)\n",
    "print(hets_circuit_plus_1000)\n",
    "print(hets_circuit_plus_10000)\n",
    "print(hets_circuit_minus_100)\n",
    "print(hets_circuit_minus_1000)\n",
    "print(hets_circuit_minus_10000)\n",
    "\n",
    "\n",
    "### WRITE YOUR CODE BETWEEN THESE LINES - END"
   ]
  },
  {
   "cell_type": "code",
   "execution_count": 33,
   "metadata": {},
   "outputs": [
    {
     "name": "stdout",
     "output_type": "stream",
     "text": [
      "-0.9122630381999999 -1.1198517056 difference =  -0.20758866740000004\n",
      "-0.4401202818199999 -0.45621825961999984 difference =  -0.01609797779999994\n",
      "-0.96466067423 -1.1187116705179998 difference =  -0.1540509962879998\n"
     ]
    }
   ],
   "source": [
    "energy_plus_100 = get_energy(hets_circuit_plus_100, num_shots=100)\n",
    "energy_plus_1000 = get_energy(hets_circuit_plus_100, num_shots=1000)\n",
    "energy_plus_10000 = get_energy(hets_circuit_plus_100, num_shots=10000)\n",
    "\n",
    "energy_minus_100 = get_energy(hets_circuit_minus_100, num_shots=100)\n",
    "energy_minus_1000 = get_energy(hets_circuit_minus_100, num_shots=1000)\n",
    "energy_minus_10000 = get_energy(hets_circuit_minus_100, num_shots=10000)\n",
    "\n",
    "print(energy_plus_100, energy_minus_100, \"difference = \", energy_minus_100 - energy_plus_100)\n",
    "print(energy_plus_1000, energy_minus_1000, \"difference = \", energy_minus_1000 - energy_plus_1000)\n",
    "print(energy_plus_10000, energy_minus_10000, \"difference = \", energy_minus_10000 - energy_plus_10000)"
   ]
  },
  {
   "cell_type": "markdown",
   "metadata": {},
   "source": [
    "## Bonus 2"
   ]
  },
  {
   "cell_type": "markdown",
   "metadata": {},
   "source": [
    "While this is not graded, diagonalize the Hamiltonian by writing down the matrices for the Pauli operators `I`, `X` and `Z`, and find the exact ground state energy."
   ]
  },
  {
   "cell_type": "code",
   "execution_count": 34,
   "metadata": {},
   "outputs": [
    {
     "name": "stdout",
     "output_type": "stream",
     "text": [
      "II\t(-1.0523732+0j)\n",
      "IZ\t(0.39793742+0j)\n",
      "ZI\t(-0.3979374+0j)\n",
      "ZZ\t(-0.0112801+0j)\n",
      "XX\t(0.18093119+0j)\n",
      "\n",
      "[-1.85727496-1.35566063e-16j]\n"
     ]
    }
   ],
   "source": [
    "### WRITE YOUR CODE BETWEEN THESE LINES - START\n",
    "import numpy as np\n",
    "from qiskit.quantum_info.operators import Operator, Pauli\n",
    "h = [[-1.0523732, Pauli(label='II')], \n",
    "     [0.39793742, Pauli(label='IZ')], \n",
    "     [-0.3979374, Pauli(label='ZI')], \n",
    "     [-0.0112801, Pauli(label='ZZ')],\n",
    "     [0.18093119, Pauli(label='XX')]\n",
    "    ]\n",
    "H_m = []\n",
    "for hi in h:\n",
    "    H_m.append(hi[0]*Operator(hi[1]))\n",
    "np.linalg.eigvalsh((H_m[0]+H_m[1]+H_m[2]+H_m[3]+H_m[4]).data)\n",
    "\n",
    "\n",
    "from qiskit.aqua.algorithms import NumPyEigensolver\n",
    "from qiskit.aqua.operators import WeightedPauliOperator\n",
    "\n",
    "H = WeightedPauliOperator(h)\n",
    "print(H.print_details())\n",
    "\n",
    "ee = NumPyEigensolver(H)\n",
    "\n",
    "result = ee.run()\n",
    "ref = result['eigenvalues']\n",
    "print(ref)\n",
    "\n",
    "### WRITE YOUR CODE BETWEEN THESE LINES - END"
   ]
  },
  {
   "cell_type": "code",
   "execution_count": null,
   "metadata": {},
   "outputs": [],
   "source": []
  }
 ],
 "metadata": {
  "kernelspec": {
   "display_name": "Python 3",
   "language": "python",
   "name": "python3"
  },
  "language_info": {
   "codemirror_mode": {
    "name": "ipython",
    "version": 3
   },
   "file_extension": ".py",
   "mimetype": "text/x-python",
   "name": "python",
   "nbconvert_exporter": "python",
   "pygments_lexer": "ipython3",
   "version": "3.8.3"
  }
 },
 "nbformat": 4,
 "nbformat_minor": 2
}
