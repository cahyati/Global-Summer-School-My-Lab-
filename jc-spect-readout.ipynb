{
 "cells": [
  {
   "cell_type": "markdown",
   "metadata": {
    "slideshow": {
     "slide_type": "slide"
    }
   },
   "source": [
    "<img src=\"resources/qgss-header-inv.png\" alt=\"Drawing\" style=\"width: 600px;\"/>\n",
    "<img src=\"resources/qubit-spect.png\" alt=\"Drawing\" style=\"width: 600px;\"/>\n",
    "\n",
    "### by nick brønn"
   ]
  },
  {
   "cell_type": "markdown",
   "metadata": {
    "slideshow": {
     "slide_type": "subslide"
    }
   },
   "source": [
    "### Jaynes-Cummings Hamiltonian"
   ]
  },
  {
   "cell_type": "markdown",
   "metadata": {
    "slideshow": {
     "slide_type": "fragment"
    }
   },
   "source": [
    "For qubits, we can describe the dynamics of the qubit with the **Pauli Matrices**\n",
    "\n",
    "$$\n",
    "\\sigma^x = \\begin{pmatrix} 0 & 1 \\\\ 1 & 0 \\end{pmatrix} \\qquad\n",
    "\\sigma^y = \\begin{pmatrix} 0 & -i \\\\ i & 0 \\end{pmatrix} \\qquad\n",
    "\\sigma^z = \\begin{pmatrix} 1 & 0 \\\\ 0 & -1 \\end{pmatrix} \\qquad\n",
    "$$"
   ]
  },
  {
   "cell_type": "markdown",
   "metadata": {
    "slideshow": {
     "slide_type": "fragment"
    }
   },
   "source": [
    "The Pauli matrices let us define raising and lowering operators\n",
    "\n",
    "$$ \\sigma^+ = \\frac{1}{2}( \\sigma^x - i\\sigma^y) \\qquad {\\rm and} \n",
    "\\qquad \\sigma^- = \\frac{1}{2}( \\sigma^x + i\\sigma^y)$$"
   ]
  },
  {
   "cell_type": "markdown",
   "metadata": {
    "slideshow": {
     "slide_type": "fragment"
    }
   },
   "source": [
    "They raise and lower qubit states\n",
    "\n",
    "$$ \\sigma^+ |0\\rangle = |1\\rangle \\qquad \\sigma^+ |1\\rangle = 0\n",
    "\\qquad {\\rm and} \\qquad \n",
    "\\sigma^-|1\\rangle = |0\\rangle \\qquad \\sigma^-|0\\rangle = 0$$"
   ]
  },
  {
   "cell_type": "markdown",
   "metadata": {
    "slideshow": {
     "slide_type": "fragment"
    }
   },
   "source": [
    "The interaction between qubit and resonator is descibed by the **Jaynes-Cummings Hamiltonian**\n",
    "\n",
    "$$\n",
    "H_{\\rm JC}^{\\rm (RWA)}/\\hbar = \\underbrace{\\omega_r a^\\dagger a}_\\text{resonator} - \\overbrace{\\frac{1}{2} \\omega_q \\sigma_z}^\\text{qubit} + \\underbrace{g(a^\\dagger \\sigma^- + a \\sigma^+)}_\\text{dipole interaction}.\n",
    "$$"
   ]
  },
  {
   "cell_type": "markdown",
   "metadata": {
    "slideshow": {
     "slide_type": "fragment"
    }
   },
   "source": [
    "In order to understand it, we must *block-diagonalize* it using the *Schrieffer-Wolff transformation*."
   ]
  },
  {
   "cell_type": "markdown",
   "metadata": {
    "slideshow": {
     "slide_type": "subslide"
    }
   },
   "source": [
    "\n",
    "## The Schrieffer-Wolff Transformation"
   ]
  },
  {
   "cell_type": "markdown",
   "metadata": {
    "slideshow": {
     "slide_type": "fragment"
    }
   },
   "source": [
    "You have a diagonalized Hamiltonian plus a perturbation\n",
    "$$\n",
    "H \\quad = \\quad \\underbrace{\\begin{pmatrix}\n",
    "\\Box &  &  &  &  &  &  \\\\\n",
    " & \\Box &  &  &  &  &  \\\\\n",
    " &  & \\Box &  &  &  &  \\\\\n",
    " &  &  & \\Box &  &  &  \\\\\n",
    " &  &  &  & \\Box &  &  \\\\\n",
    " &  &  &  &  & \\Box &  \\\\\n",
    " &  &  &  &  &  & \\Box \\end{pmatrix}}_\\text{diagonal} \\quad + \\quad \n",
    "\\underbrace{\\begin{pmatrix}\n",
    "\\times & \\times & \\times & \\times & \\cdot & \\cdot & \\cdot \\\\\n",
    "\\times & \\times & \\times & \\times & \\cdot & \\cdot & \\cdot \\\\\n",
    "\\times & \\times & \\times & \\times & \\cdot & \\cdot & \\cdot \\\\\n",
    "\\times & \\times & \\times & \\times & \\cdot & \\cdot & \\cdot \\\\\n",
    "\\cdot & \\cdot & \\cdot & \\cdot & \\times & \\times & \\times \\\\\n",
    "\\cdot & \\cdot & \\cdot & \\cdot & \\times & \\times & \\times \\\\\n",
    "\\cdot & \\cdot & \\cdot & \\cdot & \\times & \\times & \\times \\end{pmatrix}}_\\text{perturbation}\n",
    "$$"
   ]
  },
  {
   "cell_type": "markdown",
   "metadata": {
    "slideshow": {
     "slide_type": "fragment"
    }
   },
   "source": [
    "Split the perturbation into *block diagonal* and *block off-diagonal* parts so that $H = H_0 + H_1 + H_2$\n",
    "$$\n",
    "H \\quad = \\quad \\underbrace{\\begin{pmatrix}\n",
    "\\Box &  &  &  &  &  &  \\\\\n",
    " & \\Box &  &  &  &  &  \\\\\n",
    " &  & \\Box &  &  &  &  \\\\\n",
    " &  &  & \\Box &  &  &  \\\\\n",
    " &  &  &  & \\Box &  &  \\\\\n",
    " &  &  &  &  & \\Box &  \\\\\n",
    " &  &  &  &  &  & \\Box \\end{pmatrix}}_\\text{diagonal}\n",
    "\\quad + \\quad\n",
    "\\underbrace{\\begin{pmatrix}\n",
    "\\times & \\times & \\times & \\times &  &  &  \\\\\n",
    "\\times & \\times & \\times & \\times &  &  &  \\\\\n",
    "\\times & \\times & \\times & \\times &  &  &  \\\\\n",
    "\\times & \\times & \\times & \\times &  &  &  \\\\\n",
    " &  &  &  & \\times & \\times & \\times \\\\\n",
    " &  &  &  & \\times & \\times & \\times \\\\\n",
    " &  &  &  & \\times & \\times & \\times \\end{pmatrix}}_\\text{block diagonal} \n",
    "\\quad + \\quad\n",
    "\\underbrace{\\begin{pmatrix}\n",
    " &  &  &  & \\cdot & \\cdot & \\cdot \\\\\n",
    " &  &  &  & \\cdot & \\cdot & \\cdot \\\\\n",
    " &  &  &  & \\cdot & \\cdot & \\cdot \\\\\n",
    " &  &  &  & \\cdot & \\cdot & \\cdot \\\\\n",
    "\\cdot & \\cdot & \\cdot & \\cdot &  &  &  \\\\\n",
    "\\cdot & \\cdot & \\cdot & \\cdot &  &  &  \\\\\n",
    "\\cdot & \\cdot & \\cdot & \\cdot &  &  &  \\end{pmatrix}}_\\text{block non-diagonal}\n",
    "$$"
   ]
  },
  {
   "cell_type": "markdown",
   "metadata": {
    "slideshow": {
     "slide_type": "slide"
    }
   },
   "source": [
    "## The Schrieffer-Wolff Transformation"
   ]
  },
  {
   "cell_type": "markdown",
   "metadata": {
    "slideshow": {
     "slide_type": "fragment"
    }
   },
   "source": [
    "We seek an anti-hermitian, block off-diagonal operator $S$ such that\n",
    "\n",
    "$$\n",
    "H_{\\rm eff} = e^{iS} H e^{-iS} = \\sum_{m=0}^\\infty \\frac{1}{m!} \\left[H, S\\right]^{(m)} \\qquad {\\rm with} \\qquad \\left[H,S\\right]^{(m)} = \\left[\\left[H,S\\right]^{(m-1)},S\\right] \\quad {\\rm and} \\quad \\left[H,S\\right]^{(0)} = H\n",
    "$$\n",
    "\n",
    "is the generalized commutator"
   ]
  },
  {
   "cell_type": "markdown",
   "metadata": {
    "slideshow": {
     "slide_type": "fragment"
    }
   },
   "source": [
    "Taking $H_1+H_2$ as a perturbation on the diagonal $H_0$ and $S$ as a Taylor expansion\n",
    "\n",
    "$$ H = H_0 + \\lambda(H_1 + H_2) \\qquad S = \\sum_{m=1}^\\infty \\lambda^m S^{(m)} $$\n",
    "\n",
    "to keep track of the order $\\lambda$"
   ]
  },
  {
   "cell_type": "markdown",
   "metadata": {
    "slideshow": {
     "slide_type": "fragment"
    }
   },
   "source": [
    "Then\n",
    "\n",
    "$$\n",
    "H_{\\rm eff} = H_0 + \\lambda (H_1+H_2) + \\left[H_0 + \\lambda(H_1+H_2), \\lambda S^{(1)}\\right] \n",
    "  + \\frac{1}{2} \\left[ \\left[ H_0 + \\lambda(H_1+H_2), \\lambda S^{(1)}\\right], \\lambda S^{(1)}\\right]\n",
    "  + \\left[H_0 + \\lambda(H_1+H_2), \\lambda^2 S^{(2)}\\right] + \\ldots \\\\\n",
    "  \\approx H_0 + \\lambda \\left( H_1 + H_2 + \\left[H_0, S^{(1)}\\right] \\right) \n",
    "  + \\lambda^2 \\left( \\left[H_1+H_2, S^{(1)}\\right] + \\frac{1}{2} \\left[ \\left[H_0, S^{(1)}\\right], S^{(1)}\\right] + \\left[H_0, S^{(2)}\\right]\\right)\n",
    "$$\n",
    "\n",
    "up to second order in $\\lambda$"
   ]
  },
  {
   "cell_type": "markdown",
   "metadata": {
    "slideshow": {
     "slide_type": "slide"
    }
   },
   "source": [
    "## The Schrieffer-Wolff Transformation"
   ]
  },
  {
   "cell_type": "markdown",
   "metadata": {
    "slideshow": {
     "slide_type": "fragment"
    }
   },
   "source": [
    "The transformation eliminates the block off-diagonal part of $H_{\\rm eff}$,\n",
    "\n",
    "$$\n",
    "H_{\\rm eff}^{\\rm off-diag} = \\sum_{m=0}^\\infty \\frac{1}{(2m+1)!} [H_0 + H_1, S]^{(2m+1)} + \\sum_{m=0}^\\infty \\frac{1}{(2m)!} [H_2, S]^{(2m)} \\equiv 0,\n",
    "$$\n",
    "\n",
    "to each order of $\\lambda$"
   ]
  },
  {
   "cell_type": "markdown",
   "metadata": {
    "slideshow": {
     "slide_type": "fragment"
    }
   },
   "source": [
    "Expanding\n",
    "\n",
    "$$\n",
    "H_{\\rm eff}^{\\rm off-diag} = \\left[ H_0 + \\lambda H_1, \\lambda S^{(1)} \\right]+\\lambda H_2 + \\left[H_0 + \\lambda H_1, \\lambda^2 S^{(2)}\\right]\n",
    "  + \\frac{1}{3!} \\left[ H_0+\\lambda H_1, \\lambda S^{(1)}\\right]^{(3)} + \\frac{1}{2!} \\left[ \\lambda H_2, \\lambda S^{(1)}\\right]^{(2)} \\\\\n",
    "  = \\lambda \\left( \\left[ H_0, S^{(1)} \\right] + H_2 \\right) + \\lambda^2 \\left( \\left[H_1, S^{(1)} \\right] + \\left[H_0, S^{(2)}\\right]\\right) + \\ldots\n",
    "$$"
   ]
  },
  {
   "cell_type": "markdown",
   "metadata": {
    "slideshow": {
     "slide_type": "fragment"
    }
   },
   "source": [
    "Going to second order yields\n",
    "\n",
    "$$\n",
    "\\left[ H_0, S^{(1)} \\right] = -H_2 \\qquad \\left[ H_0, S^{(2)} \\right] = -\\left[H_1, S^{(1)}\\right]\n",
    "$$"
   ]
  },
  {
   "cell_type": "markdown",
   "metadata": {
    "slideshow": {
     "slide_type": "slide"
    }
   },
   "source": [
    "## The Schrieffer-Wolff Transformation\n",
    "$$\n",
    "H_{\\rm eff} = H_0 + \\lambda \\left( H_1 + H_2 + \\left[H_0, S^{(1)}\\right] \\right) \n",
    "  + \\lambda^2 \\left( \\left[H_1+H_2, S^{(1)}\\right] + \\frac{1}{2} \\left[ \\left[H_0, S^{(1)},\\right] S^{(1)}\\right] + \\left[H_0, S^{(2)}\\right]\\right)\n",
    "$$"
   ]
  },
  {
   "cell_type": "markdown",
   "metadata": {
    "slideshow": {
     "slide_type": "fragment"
    }
   },
   "source": [
    "Substituting the equations needed to cancel the block off-diagonal terms and letting $\\lambda \\to 1$\n",
    "\n",
    "$$\n",
    "H_{\\rm eff} = H_0 + H_1 + \\frac{1}{2} \\left[ H_2, S^{(1)} \\right]\n",
    "$$\n",
    "\n",
    "Now we only need to find $S^{(1)}$ for a second-order correction!"
   ]
  },
  {
   "cell_type": "markdown",
   "metadata": {
    "slideshow": {
     "slide_type": "fragment"
    }
   },
   "source": [
    "The recent manuscript [A Systematic Method for Schrieffer-Wolff Transformation and Its Generalizations](http://www.arxiv.org/abs/2004.06534) systematically provides the ansatz by calculating\n",
    "\n",
    "$$\\eta = [H_0, H_2] $$\n",
    "\n",
    "and set the coefficients such that\n",
    "\n",
    "$$ [H_0, \\eta] = H_2$$\n",
    "\n",
    "which means $\\eta$ is the same as $S^{(1)}$ by uniqueness"
   ]
  },
  {
   "cell_type": "markdown",
   "metadata": {
    "slideshow": {
     "slide_type": "slide"
    }
   },
   "source": [
    "## S-W Tranformation of the J-C Hamiltonain\n",
    "For ease of tedious calculations, we will use the Python package [`sympy`](http://www.sympy.org) for symbolic mathematics."
   ]
  },
  {
   "cell_type": "code",
   "execution_count": 1,
   "metadata": {},
   "outputs": [],
   "source": [
    "# import SymPy and define symbols\n",
    "import sympy as sp\n",
    "sp.init_printing(use_unicode=True)\n",
    "wr = sp.Symbol('\\omega_r') # resonator frequency\n",
    "wq = sp.Symbol('\\omega_q') # qubit frequency\n",
    "g = sp.Symbol('g', real=True) # vacuum Rabi coupling\n",
    "Delta = sp.Symbol('Delta', real=True) # wr - wq; defined later"
   ]
  },
  {
   "cell_type": "code",
   "execution_count": 2,
   "metadata": {
    "slideshow": {
     "slide_type": "fragment"
    }
   },
   "outputs": [],
   "source": [
    "# import operator relations and define them\n",
    "from sympy.physics.quantum.boson import BosonOp\n",
    "a = BosonOp('a') # resonator photon annihilation operator\n",
    "from sympy.physics.quantum import pauli, Dagger, Commutator\n",
    "from sympy.physics.quantum.operatorordering import normal_ordered_form"
   ]
  },
  {
   "cell_type": "markdown",
   "metadata": {
    "slideshow": {
     "slide_type": "slide"
    }
   },
   "source": [
    "## S-W Tranformation of the J-C Hamiltonian"
   ]
  },
  {
   "cell_type": "code",
   "execution_count": 3,
   "metadata": {
    "slideshow": {
     "slide_type": "fragment"
    }
   },
   "outputs": [],
   "source": [
    "# Pauli matrices\n",
    "sx = pauli.SigmaX()\n",
    "sy = pauli.SigmaY()\n",
    "sz = pauli.SigmaZ()\n",
    "\n",
    "# qubit raising and lowering operators\n",
    "splus = pauli.SigmaPlus() \n",
    "sminus = pauli.SigmaMinus()"
   ]
  },
  {
   "cell_type": "code",
   "execution_count": 4,
   "metadata": {
    "slideshow": {
     "slide_type": "fragment"
    }
   },
   "outputs": [
    {
     "data": {
      "image/png": "[encoded data removed]",
      "text/latex": [
       "$\\displaystyle - 0.5 \\omega_q {\\sigma_z} + \\omega_r {{a}^\\dagger} {a} + g \\left({{a}^\\dagger} {\\sigma_-} + {a} {\\sigma_+}\\right)$"
      ],
      "text/plain": [
       "                               †       ⎛ †                ⎞\n",
       "-0.5⋅\\omega_q⋅False + \\omegaᵣ⋅a ⋅a + g⋅⎝a ⋅False + a⋅False⎠"
      ]
     },
     "execution_count": 4,
     "metadata": {},
     "output_type": "execute_result"
    }
   ],
   "source": [
    "# define J-C Hamiltonian in terms of diagonal and non-block diagonal terms\n",
    "H0 = wr*Dagger(a)*a - (1/2)*wq*sz; \n",
    "H1 = 0\n",
    "H2 = g*(Dagger(a)*sminus + a*splus); \n",
    "HJC = H0 + H1 + H2; HJC # print"
   ]
  },
  {
   "cell_type": "markdown",
   "metadata": {
    "slideshow": {
     "slide_type": "slide"
    }
   },
   "source": [
    "## S-W Tranformation of the J-C Hamiltonian"
   ]
  },
  {
   "cell_type": "code",
   "execution_count": 5,
   "metadata": {
    "slideshow": {
     "slide_type": "fragment"
    }
   },
   "outputs": [
    {
     "data": {
      "image/png": "[encoded data removed]",
      "text/latex": [
       "$\\displaystyle - g \\left[{{a}^\\dagger} {\\sigma_-} + {a} {\\sigma_+},- 0.5 \\omega_q {\\sigma_z} + \\omega_r {{a}^\\dagger} {a}\\right]$"
      ],
      "text/plain": [
       "   ⎡ †                                                †  ⎤\n",
       "-g⋅⎣a ⋅False + a⋅False,-0.5⋅\\omega_q⋅False + \\omegaᵣ⋅a ⋅a⎦"
      ]
     },
     "execution_count": 5,
     "metadata": {},
     "output_type": "execute_result"
    }
   ],
   "source": [
    "# using the above method for finding the ansatz\n",
    "eta = Commutator(H0, H2); eta"
   ]
  },
  {
   "cell_type": "markdown",
   "metadata": {
    "slideshow": {
     "slide_type": "fragment"
    }
   },
   "source": [
    "We will need to used the methods `doit()`, `expand`, `normal_ordered_form`, and `qsimplify_pauli`"
   ]
  },
  {
   "cell_type": "code",
   "execution_count": 6,
   "metadata": {
    "slideshow": {
     "slide_type": "fragment"
    }
   },
   "outputs": [
    {
     "data": {
      "image/png": "[encoded data removed]",
      "text/latex": [
       "$\\displaystyle 1.0 \\omega_q g {{a}^\\dagger} {\\sigma_-} - 1.0 \\omega_q g {a} {\\sigma_+} + \\omega_r g {{a}^\\dagger} {\\sigma_-} - \\omega_r g {a} {\\sigma_+}$"
      ],
      "text/plain": [
       "                †                                             †               \n",
       "1.0⋅\\omega_q⋅g⋅a ⋅False - 1.0⋅\\omega_q⋅g⋅a⋅False + \\omegaᵣ⋅g⋅a ⋅False - \\omega\n",
       "\n",
       "           \n",
       "ᵣ⋅g⋅a⋅False"
      ]
     },
     "execution_count": 6,
     "metadata": {},
     "output_type": "execute_result"
    }
   ],
   "source": [
    "pauli.qsimplify_pauli(normal_ordered_form(eta.doit().expand()))"
   ]
  },
  {
   "cell_type": "markdown",
   "metadata": {
    "slideshow": {
     "slide_type": "slide"
    }
   },
   "source": [
    "## S-W Tranformation of the J-C Hamiltonian"
   ]
  },
  {
   "cell_type": "markdown",
   "metadata": {
    "slideshow": {
     "slide_type": "fragment"
    }
   },
   "source": [
    "Now take $A$ and $B$ as the coefficients of $a^\\dagger \\sigma_-$ and $a\\sigma_+$, respectively. Then the commutator"
   ]
  },
  {
   "cell_type": "code",
   "execution_count": 7,
   "metadata": {
    "slideshow": {
     "slide_type": "fragment"
    }
   },
   "outputs": [
    {
     "data": {
      "image/png": "[encoded data removed]",
      "text/latex": [
       "$\\displaystyle 1.0 A \\omega_q {{a}^\\dagger} {\\sigma_-} + A \\omega_r {{a}^\\dagger} {\\sigma_-} + 1.0 B \\omega_q {a} {\\sigma_+} + B \\omega_r {a} {\\sigma_+}$"
      ],
      "text/plain": [
       "                †                    †                                        \n",
       "1.0⋅A⋅\\omega_q⋅a ⋅False + A⋅\\omegaᵣ⋅a ⋅False + 1.0⋅B⋅\\omega_q⋅a⋅False + B⋅\\ome\n",
       "\n",
       "           \n",
       "gaᵣ⋅a⋅False"
      ]
     },
     "execution_count": 7,
     "metadata": {},
     "output_type": "execute_result"
    }
   ],
   "source": [
    "A = sp.Symbol('A')\n",
    "B = sp.Symbol('B')\n",
    "eta = A * Dagger(a) * sminus - B * a * splus;\n",
    "pauli.qsimplify_pauli(normal_ordered_form(Commutator(H0, eta).doit().expand()))"
   ]
  },
  {
   "cell_type": "markdown",
   "metadata": {
    "slideshow": {
     "slide_type": "fragment"
    }
   },
   "source": [
    "This expression should be equal to $H_2$"
   ]
  },
  {
   "cell_type": "code",
   "execution_count": 8,
   "metadata": {
    "slideshow": {
     "slide_type": "fragment"
    }
   },
   "outputs": [
    {
     "data": {
      "image/png": "[encoded data removed]",
      "text/latex": [
       "$\\displaystyle g \\left({{a}^\\dagger} {\\sigma_-} + {a} {\\sigma_+}\\right)$"
      ],
      "text/plain": [
       "  ⎛ †                ⎞\n",
       "g⋅⎝a ⋅False + a⋅False⎠"
      ]
     },
     "execution_count": 8,
     "metadata": {},
     "output_type": "execute_result"
    }
   ],
   "source": [
    "H2"
   ]
  },
  {
   "cell_type": "markdown",
   "metadata": {
    "slideshow": {
     "slide_type": "slide"
    }
   },
   "source": [
    "## S-W Tranformation of the J-C Hamiltonian"
   ]
  },
  {
   "cell_type": "markdown",
   "metadata": {
    "slideshow": {
     "slide_type": "fragment"
    }
   },
   "source": [
    "Therefore set $A = B = g/\\Delta$ where $\\Delta = \\omega_r - \\omega_q$ is the frequency detuning between the resonator and qubit. Then $S^{(1)}$ is determined as"
   ]
  },
  {
   "cell_type": "code",
   "execution_count": 9,
   "metadata": {
    "slideshow": {
     "slide_type": "fragment"
    }
   },
   "outputs": [
    {
     "data": {
      "image/png": "[encoded data removed]",
      "text/latex": [
       "$\\displaystyle \\frac{g \\left({{a}^\\dagger} {\\sigma_-} - {a} {\\sigma_+}\\right)}{\\Delta}$"
      ],
      "text/plain": [
       "  ⎛ †                ⎞\n",
       "g⋅⎝a ⋅False - a⋅False⎠\n",
       "──────────────────────\n",
       "          Δ           "
      ]
     },
     "execution_count": 9,
     "metadata": {},
     "output_type": "execute_result"
    }
   ],
   "source": [
    "S1 = eta.subs(A, g/Delta)\n",
    "S1 = S1.subs(B, g/Delta); S1.factor()"
   ]
  },
  {
   "cell_type": "markdown",
   "metadata": {
    "slideshow": {
     "slide_type": "fragment"
    }
   },
   "source": [
    "Then we can calculate the effective second order correction to $H_0$"
   ]
  },
  {
   "cell_type": "code",
   "execution_count": 10,
   "metadata": {},
   "outputs": [
    {
     "data": {
      "image/png": "[encoded data removed]",
      "text/latex": [
       "$\\displaystyle - 0.5 \\omega_q {\\sigma_z} + \\omega_r {{a}^\\dagger} {a} + \\frac{0.5 g^{2} \\left(1 + 2 {{a}^\\dagger} {a} {\\sigma_z} + {\\sigma_z}\\right)}{\\Delta}$"
      ],
      "text/plain": [
       "                                          2 ⎛       †                ⎞\n",
       "                               †     0.5⋅g ⋅⎝1 + 2⋅a ⋅a⋅False + False⎠\n",
       "-0.5⋅\\omega_q⋅False + \\omegaᵣ⋅a ⋅a + ─────────────────────────────────\n",
       "                                                     Δ                "
      ]
     },
     "execution_count": 10,
     "metadata": {},
     "output_type": "execute_result"
    }
   ],
   "source": [
    "Heff = H0 + H1 + 0.5*pauli.qsimplify_pauli(normal_ordered_form(Commutator(H2, S1).doit().expand())).simplify(); Heff"
   ]
  },
  {
   "cell_type": "markdown",
   "metadata": {
    "slideshow": {
     "slide_type": "fragment"
    }
   },
   "source": [
    "This is typically written as\n",
    "$$\n",
    "H_{\\rm eff} = \\left(\\omega_r + \\frac{g^2}{\\Delta}\\sigma_z\\right)a^\\dagger a  - \\frac{1}{2}\\left(\\omega_q -\\frac{g^2}{\\Delta}\\right) \\sigma_z\n",
    "$$\n",
    "which shows a state-dependent shift by $\\chi \\equiv g^2/\\Delta$ of the resonator frequency called the *ac Stark shift* and a shift in qubit frequency due to quantum vacuum fluctuations called the *Lamb shift*."
   ]
  },
  {
   "cell_type": "markdown",
   "metadata": {
    "slideshow": {
     "slide_type": "slide"
    }
   },
   "source": [
    "## Qiskit Pulse - Spectroscopy"
   ]
  },
  {
   "cell_type": "markdown",
   "metadata": {
    "slideshow": {
     "slide_type": "fragment"
    }
   },
   "source": [
    "### Import Necessary Libraries"
   ]
  },
  {
   "cell_type": "code",
   "execution_count": 11,
   "metadata": {
    "slideshow": {
     "slide_type": "fragment"
    }
   },
   "outputs": [
    {
     "name": "stderr",
     "output_type": "stream",
     "text": [
      "configrc.store_credentials:WARNING:2020-07-29 03:47:43,019: Credentials already present. Set overwrite=True to overwrite.\n"
     ]
    }
   ],
   "source": [
    "from qiskit.tools.jupyter import *\n",
    "from qiskit import IBMQ\n",
    "IBMQ.save_account('<your Token>')\n",
    "IBMQ.load_account()\n",
    "provider = IBMQ.get_provider(hub='ibm-q', group='open', project='main')\n",
    "backend = provider.get_backend('ibmq_armonk') "
   ]
  },
  {
   "cell_type": "markdown",
   "metadata": {
    "slideshow": {
     "slide_type": "fragment"
    }
   },
   "source": [
    "### Verify Backend is Pulse-enabled"
   ]
  },
  {
   "cell_type": "code",
   "execution_count": 12,
   "metadata": {
    "slideshow": {
     "slide_type": "fragment"
    }
   },
   "outputs": [
    {
     "name": "stdout",
     "output_type": "stream",
     "text": [
      "Sampling time: 0.2222222222222222 ns\n"
     ]
    }
   ],
   "source": [
    "backend_config = backend.configuration()\n",
    "assert backend_config.open_pulse, \"Backend doesn't support Pulse\"\n",
    "\n",
    "dt = backend_config.dt\n",
    "print(f\"Sampling time: {dt*1e9} ns\") \n",
    "backend_defaults = backend.defaults()"
   ]
  },
  {
   "cell_type": "markdown",
   "metadata": {
    "slideshow": {
     "slide_type": "slide"
    }
   },
   "source": [
    "## Qiskit Pulse - Spectroscopy"
   ]
  },
  {
   "cell_type": "code",
   "execution_count": 13,
   "metadata": {
    "slideshow": {
     "slide_type": "fragment"
    }
   },
   "outputs": [
    {
     "name": "stdout",
     "output_type": "stream",
     "text": [
      "Qubit 0 has an estimated frequency of 4.974445862780936 GHz.\n"
     ]
    }
   ],
   "source": [
    "import numpy as np\n",
    "\n",
    "# unit conversion factors -> all backend properties returned in SI (Hz, sec, etc)\n",
    "GHz = 1.0e9 # Gigahertz\n",
    "MHz = 1.0e6 # Megahertz\n",
    "kHz = 1.0e3\n",
    "us = 1.0e-6 # Microseconds\n",
    "ns = 1.0e-9 # Nanoseconds\n",
    "\n",
    "# We will find the qubit frequency for the following qubit.\n",
    "qubit = 0\n",
    "\n",
    "# The sweep will be centered around the estimated qubit frequency.\n",
    "center_frequency_Hz = backend_defaults.qubit_freq_est[qubit]        # The default frequency is given in Hz\n",
    "                                                                    # warning: this will change in a future release\n",
    "print(f\"Qubit {qubit} has an estimated frequency of {center_frequency_Hz / GHz} GHz.\")"
   ]
  },
  {
   "cell_type": "markdown",
   "metadata": {
    "slideshow": {
     "slide_type": "slide"
    }
   },
   "source": [
    "## Qiskit Pulse - Spectroscopy"
   ]
  },
  {
   "cell_type": "code",
   "execution_count": 14,
   "metadata": {
    "slideshow": {
     "slide_type": "fragment"
    }
   },
   "outputs": [
    {
     "name": "stdout",
     "output_type": "stream",
     "text": [
      "The sweep will go from 4.954445862780936 GHz to 4.994445862780936 GHz in steps of 1.0 MHz.\n"
     ]
    }
   ],
   "source": [
    "# scale factor to remove factors of 10 from the data\n",
    "scale_factor = 1e-14\n",
    "# We will sweep 40 MHz around the estimated frequency\n",
    "frequency_span_Hz = 40 * MHz\n",
    "# in steps of 1 MHz.\n",
    "frequency_step_Hz = 1 * MHz\n",
    "# We will sweep 20 MHz above and 20 MHz below the estimated frequency\n",
    "frequency_min = center_frequency_Hz - frequency_span_Hz / 2\n",
    "frequency_max = center_frequency_Hz + frequency_span_Hz / 2\n",
    "# Construct an np array of the frequencies for our experiment\n",
    "frequencies_GHz = np.arange(frequency_min / GHz, \n",
    "                            frequency_max / GHz, \n",
    "                            frequency_step_Hz / GHz)\n",
    "\n",
    "print(f\"The sweep will go from {frequency_min / GHz} GHz to {frequency_max / GHz} GHz \\\n",
    "in steps of {frequency_step_Hz / MHz} MHz.\")"
   ]
  },
  {
   "cell_type": "markdown",
   "metadata": {
    "slideshow": {
     "slide_type": "slide"
    }
   },
   "source": [
    "## Qiskit Pulse - Spectroscopy"
   ]
  },
  {
   "cell_type": "code",
   "execution_count": 15,
   "metadata": {
    "slideshow": {
     "slide_type": "fragment"
    }
   },
   "outputs": [],
   "source": [
    "# This is where we access all of our Pulse features!\n",
    "from qiskit import pulse            \n",
    "\n",
    "inst_sched_map = backend_defaults.instruction_schedule_map\n",
    "measure = inst_sched_map.get('measure', qubits=[qubit])\n",
    "x_pulse = inst_sched_map.get('x', qubits=[qubit])\n",
    "\n",
    "### Collect the necessary channels\n",
    "drive_chan = pulse.DriveChannel(qubit)\n",
    "meas_chan = pulse.MeasureChannel(qubit)\n",
    "acq_chan = pulse.AcquireChannel(qubit)"
   ]
  },
  {
   "cell_type": "code",
   "execution_count": 16,
   "metadata": {
    "slideshow": {
     "slide_type": "fragment"
    }
   },
   "outputs": [],
   "source": [
    "# Create the base schedule\n",
    "# Start with drive pulse acting on the drive channel\n",
    "schedule = pulse.Schedule(name='Frequency sweep')\n",
    "schedule += x_pulse\n",
    "# The left shift `<<` is special syntax meaning to \n",
    "# shift the start time of the schedule by some duration\n",
    "schedule += measure << schedule.duration\n",
    "\n",
    "# Create the frequency settings for the sweep (MUST BE IN HZ)\n",
    "frequencies_Hz = frequencies_GHz*GHz\n",
    "schedule_frequencies = [{drive_chan: freq} for freq in frequencies_Hz]"
   ]
  },
  {
   "cell_type": "markdown",
   "metadata": {
    "slideshow": {
     "slide_type": "slide"
    }
   },
   "source": [
    "## Qiskit Pulse - Spectroscopy"
   ]
  },
  {
   "cell_type": "code",
   "execution_count": 17,
   "metadata": {
    "slideshow": {
     "slide_type": "fragment"
    }
   },
   "outputs": [
    {
     "data": {
      "image/png": "[encoded data removed]",
      "text/plain": [
       "<Figure size 720x864 with 1 Axes>"
      ]
     },
     "execution_count": 17,
     "metadata": {},
     "output_type": "execute_result"
    }
   ],
   "source": [
    "schedule.draw(label=True, scaling=0.8)"
   ]
  },
  {
   "cell_type": "markdown",
   "metadata": {
    "slideshow": {
     "slide_type": "slide"
    }
   },
   "source": [
    "## Qiskit Pulse - Spectroscopy"
   ]
  },
  {
   "cell_type": "code",
   "execution_count": 21,
   "metadata": {
    "slideshow": {
     "slide_type": "fragment"
    }
   },
   "outputs": [],
   "source": [
    "from qiskit import assemble\n",
    "frequency_sweep_program = assemble(schedule,\n",
    "                                   backend=backend, \n",
    "                                   meas_level=1,\n",
    "                                   meas_return='avg',\n",
    "                                   shots=1024,\n",
    "                                   schedule_los=schedule_frequencies)"
   ]
  },
  {
   "cell_type": "code",
   "execution_count": 23,
   "metadata": {
    "slideshow": {
     "slide_type": "fragment"
    }
   },
   "outputs": [
    {
     "name": "stdout",
     "output_type": "stream",
     "text": [
      "5f2090845498260013fb4768\n",
      "Job Status: job has successfully run\n"
     ]
    }
   ],
   "source": [
    "# RUN the job on a real device\n",
    "job = backend.run(frequency_sweep_program)\n",
    "print(job.job_id())\n",
    "from qiskit.tools.monitor import job_monitor\n",
    "job_monitor(job)\n",
    "\n",
    "# OR retreive result from previous run\n",
    "#job = backend.retrieve_job('5ef3b081fbc24b001275b03b')"
   ]
  },
  {
   "cell_type": "markdown",
   "metadata": {
    "slideshow": {
     "slide_type": "slide"
    }
   },
   "source": [
    "## Qiskit Pulse - Spectroscopy"
   ]
  },
  {
   "cell_type": "code",
   "execution_count": 24,
   "metadata": {
    "slideshow": {
     "slide_type": "fragment"
    }
   },
   "outputs": [],
   "source": [
    "frequency_sweep_results = job.result() "
   ]
  },
  {
   "cell_type": "code",
   "execution_count": 25,
   "metadata": {
    "slideshow": {
     "slide_type": "fragment"
    }
   },
   "outputs": [
    {
     "data": {
      "image/png": "[encoded data removed]",
      "text/plain": [
       "<Figure size 432x288 with 1 Axes>"
      ]
     },
     "metadata": {},
     "output_type": "display_data"
    }
   ],
   "source": [
    "import matplotlib.pyplot as plt\n",
    "plt.style.use('dark_background')\n",
    "\n",
    "sweep_values = []\n",
    "for i in range(len(frequency_sweep_results.results)):\n",
    "    # Get the results from the ith experiment\n",
    "    res = frequency_sweep_results.get_memory(i)*scale_factor\n",
    "    # Get the results for `qubit` from this experiment\n",
    "    sweep_values.append(res[qubit])\n",
    "\n",
    "plt.scatter(frequencies_GHz, np.real(sweep_values), color='white') # plot real part of sweep values\n",
    "plt.xlim([min(frequencies_GHz), max(frequencies_GHz)])\n",
    "plt.xlabel(\"Frequency [GHz]\")\n",
    "plt.ylabel(\"Measured signal [a.u.]\")\n",
    "plt.show()"
   ]
  },
  {
   "cell_type": "markdown",
   "metadata": {
    "slideshow": {
     "slide_type": "slide"
    }
   },
   "source": [
    "## Qiskit Pulse - Spectroscopy"
   ]
  },
  {
   "cell_type": "code",
   "execution_count": 26,
   "metadata": {
    "slideshow": {
     "slide_type": "fragment"
    }
   },
   "outputs": [],
   "source": [
    "from scipy.optimize import curve_fit\n",
    "\n",
    "def fit_function(x_values, y_values, function, init_params):\n",
    "    fitparams, conv = curve_fit(function, x_values, y_values, init_params)\n",
    "    y_fit = function(x_values, *fitparams)\n",
    "    \n",
    "    return fitparams, y_fit"
   ]
  },
  {
   "cell_type": "code",
   "execution_count": 27,
   "metadata": {
    "slideshow": {
     "slide_type": "fragment"
    }
   },
   "outputs": [],
   "source": [
    "fit_params, y_fit = fit_function(frequencies_GHz,\n",
    "                                 np.real(sweep_values), \n",
    "                                 lambda x, A, q_freq, B, C: (A / np.pi) * (B / ((x - q_freq)**2 + B**2)) + C,\n",
    "                                 [5, 4.975, 1, 3] # initial parameters for curve_fit\n",
    "                                )"
   ]
  },
  {
   "cell_type": "markdown",
   "metadata": {
    "slideshow": {
     "slide_type": "slide"
    }
   },
   "source": [
    "## Qiskit Pulse - Spectroscopy\n",
    "\n",
    "$$\n",
    "H_{\\rm eff} = \\left(\\omega_r + \\frac{g^2}{\\Delta}\\sigma_z\\right)a^\\dagger a  - \\frac{1}{2}\\left(\\omega_q -\\frac{g^2}{\\Delta}\\right) \\sigma_z\n",
    "$$"
   ]
  },
  {
   "cell_type": "code",
   "execution_count": 28,
   "metadata": {
    "slideshow": {
     "slide_type": "fragment"
    }
   },
   "outputs": [
    {
     "data": {
      "image/png": "[encoded data removed]",
      "text/plain": [
       "<Figure size 432x288 with 1 Axes>"
      ]
     },
     "metadata": {},
     "output_type": "display_data"
    }
   ],
   "source": [
    "plt.scatter(frequencies_GHz, np.real(sweep_values), color='white')\n",
    "plt.plot(frequencies_GHz, y_fit, color='red')\n",
    "plt.xlim([min(frequencies_GHz), max(frequencies_GHz)])\n",
    "\n",
    "plt.xlabel(\"Frequency [GHz]\")\n",
    "plt.ylabel(\"Measured Signal [a.u.]\")\n",
    "plt.show()"
   ]
  },
  {
   "cell_type": "markdown",
   "metadata": {
    "slideshow": {
     "slide_type": "slide"
    }
   },
   "source": [
    "## Qiskit Pulse - Dispersive Shift"
   ]
  },
  {
   "cell_type": "code",
   "execution_count": 29,
   "metadata": {
    "slideshow": {
     "slide_type": "fragment"
    }
   },
   "outputs": [],
   "source": [
    " # Create the schedules for 0 and 1\n",
    "schedule_0 = pulse.Schedule(name='0')\n",
    "schedule_0 += measure\n",
    "\n",
    "schedule_1 = pulse.Schedule(name='1')\n",
    "schedule_1 += x_pulse\n",
    "schedule_1 += measure << schedule_1.duration"
   ]
  },
  {
   "cell_type": "markdown",
   "metadata": {
    "slideshow": {
     "slide_type": "slide"
    }
   },
   "source": [
    "## Qiskit Pulse - Dispersive Shift"
   ]
  },
  {
   "cell_type": "code",
   "execution_count": 30,
   "metadata": {
    "slideshow": {
     "slide_type": "fragment"
    }
   },
   "outputs": [
    {
     "data": {
      "image/png": "[encoded data removed]",
      "text/plain": [
       "<Figure size 720x864 with 1 Axes>"
      ]
     },
     "execution_count": 30,
     "metadata": {},
     "output_type": "execute_result"
    }
   ],
   "source": [
    "schedule_0.draw()"
   ]
  },
  {
   "cell_type": "markdown",
   "metadata": {
    "slideshow": {
     "slide_type": "slide"
    }
   },
   "source": [
    "## Qiskit Pulse - Dispersive Shift"
   ]
  },
  {
   "cell_type": "code",
   "execution_count": 31,
   "metadata": {
    "slideshow": {
     "slide_type": "fragment"
    }
   },
   "outputs": [
    {
     "data": {
      "image/png": "[encoded data removed]",
      "text/plain": [
       "<Figure size 720x864 with 1 Axes>"
      ]
     },
     "execution_count": 31,
     "metadata": {},
     "output_type": "execute_result"
    }
   ],
   "source": [
    "schedule_1.draw()"
   ]
  },
  {
   "cell_type": "markdown",
   "metadata": {
    "slideshow": {
     "slide_type": "slide"
    }
   },
   "source": [
    "## Qiskit Pulse - Dispersive Shift"
   ]
  },
  {
   "cell_type": "code",
   "execution_count": 32,
   "metadata": {
    "slideshow": {
     "slide_type": "fragment"
    }
   },
   "outputs": [
    {
     "name": "stdout",
     "output_type": "stream",
     "text": [
      "Qubit 0 has an estimated readout frequency of 6.993427855 GHz.\n",
      "The sweep will go from 6.993267855 GHz to 6.993587855 GHz      in steps of 0.008 MHz.\n"
     ]
    }
   ],
   "source": [
    "frequency_span_Hz = 320 * kHz\n",
    "frequency_step_Hz = 8 * kHz\n",
    "\n",
    "center_frequency_Hz = backend_defaults.meas_freq_est[qubit]\n",
    "print(f\"Qubit {qubit} has an estimated readout frequency of {center_frequency_Hz / GHz} GHz.\")\n",
    "frequency_min = center_frequency_Hz - frequency_span_Hz / 2\n",
    "frequency_max = center_frequency_Hz + frequency_span_Hz / 2\n",
    "frequencies_GHz = np.arange(frequency_min / GHz, \n",
    "                            frequency_max / GHz, \n",
    "                            frequency_step_Hz / GHz)\n",
    "\n",
    "print(f\"The sweep will go from {frequency_min / GHz} GHz to {frequency_max / GHz} GHz\\\n",
    "      in steps of {frequency_step_Hz / MHz} MHz.\")"
   ]
  },
  {
   "cell_type": "markdown",
   "metadata": {
    "slideshow": {
     "slide_type": "slide"
    }
   },
   "source": [
    "## Qiskit Pulse - Dispersive Shift"
   ]
  },
  {
   "cell_type": "code",
   "execution_count": 33,
   "metadata": {
    "slideshow": {
     "slide_type": "fragment"
    }
   },
   "outputs": [],
   "source": [
    "num_shots_per_frequency = 2048\n",
    "\n",
    "frequencies_Hz = frequencies_GHz*GHz\n",
    "schedule_los = [{meas_chan: freq} for freq in frequencies_Hz]\n",
    "\n",
    "cavity_sweep_0 = assemble(schedule_0,\n",
    "                               backend=backend, \n",
    "                               meas_level=1,\n",
    "                               meas_return='avg',\n",
    "                               shots=num_shots_per_frequency,\n",
    "                               schedule_los=schedule_los)\n",
    "\n",
    "cavity_sweep_1 = assemble(schedule_1,\n",
    "                               backend=backend, \n",
    "                               meas_level=1,\n",
    "                               meas_return='avg',\n",
    "                               shots=num_shots_per_frequency,\n",
    "                               schedule_los=schedule_los)"
   ]
  },
  {
   "cell_type": "code",
   "execution_count": 34,
   "metadata": {
    "slideshow": {
     "slide_type": "fragment"
    }
   },
   "outputs": [
    {
     "name": "stdout",
     "output_type": "stream",
     "text": [
      "Job Status: job has successfully run\n",
      "Job Status: job has successfully run\n"
     ]
    }
   ],
   "source": [
    "# RUN the job on a real device\n",
    "job_0 = backend.run(cavity_sweep_0)\n",
    "job_monitor(job_0)\n",
    "job_0.error_message()\n",
    "\n",
    "job_1 = backend.run(cavity_sweep_1)\n",
    "job_monitor(job_1)\n",
    "job_1.error_message()\n",
    "\n",
    "# OR retreive result from previous run\n",
    "#job_0 = backend.retrieve_job('5efa5b447c0d6800137fff1c')\n",
    "#job_1 = backend.retrieve_job('5efa6b2720eee10013be46b4')\n",
    "\n",
    "cavity_sweep_0_results = job_0.result()\n",
    "cavity_sweep_1_results = job_1.result()"
   ]
  },
  {
   "cell_type": "markdown",
   "metadata": {
    "slideshow": {
     "slide_type": "slide"
    }
   },
   "source": [
    "## Qiskit Pulse - Dispersive Shift"
   ]
  },
  {
   "cell_type": "code",
   "execution_count": 37,
   "metadata": {
    "slideshow": {
     "slide_type": "fragment"
    }
   },
   "outputs": [],
   "source": [
    "scale_factor = 1e-14\n",
    "\n",
    "sweep_values_0 = []\n",
    "for i in range(len(cavity_sweep_0_results.results)):\n",
    "    res_0 = cavity_sweep_0_results.get_memory(i)*scale_factor\n",
    "    sweep_values_0.append(res_0[qubit])\n",
    "\n",
    "sweep_values_1 = []\n",
    "for i in range(len(cavity_sweep_1_results.results)):\n",
    "    res_1 = cavity_sweep_1_results.get_memory(i)*scale_factor\n",
    "    sweep_values_1.append(res_1[qubit])\n",
    "    \n",
    "plotx = frequencies_Hz/kHz\n",
    "ploty_0 = np.abs(sweep_values_0)\n",
    "ploty_1 = np.abs(sweep_values_1)"
   ]
  },
  {
   "cell_type": "markdown",
   "metadata": {
    "slideshow": {
     "slide_type": "slide"
    }
   },
   "source": [
    "## Qiskit Pulse - Dispersive Shift\n",
    "\n",
    "$$\n",
    "H_{\\rm eff} = \\left(\\omega_r + \\frac{g^2}{\\Delta}\\sigma_z\\right)a^\\dagger a  - \\frac{1}{2}\\left(\\omega_q -\\frac{g^2}{\\Delta}\\right) \\sigma_z\n",
    "$$"
   ]
  },
  {
   "cell_type": "code",
   "execution_count": 38,
   "metadata": {
    "slideshow": {
     "slide_type": "fragment"
    }
   },
   "outputs": [
    {
     "data": {
      "image/png": "[encoded data removed]",
      "text/plain": [
       "<Figure size 432x288 with 1 Axes>"
      ]
     },
     "metadata": {},
     "output_type": "display_data"
    }
   ],
   "source": [
    "plt.plot(plotx, ploty_0, color='blue', marker='.') # plot real part of sweep values\n",
    "plt.plot(plotx, ploty_1, color='red', marker='.') # plot real part of sweep values\n",
    "plt.legend([r'$\\vert0\\rangle$', r'$\\vert1\\rangle$'])\n",
    "\n",
    "plt.grid()\n",
    "plt.xlabel(\"Frequency [kHz]\")\n",
    "plt.ylabel(\"Measured signal [a.u.]\")\n",
    "plt.yscale('log')\n",
    "plt.show()"
   ]
  },
  {
   "cell_type": "markdown",
   "metadata": {
    "slideshow": {
     "slide_type": "slide"
    }
   },
   "source": [
    "# <center> On to Exercise 1... </center>"
   ]
  },
  {
   "cell_type": "code",
   "execution_count": null,
   "metadata": {},
   "outputs": [],
   "source": []
  }
 ],
 "metadata": {
  "celltoolbar": "Slideshow",
  "kernelspec": {
   "display_name": "Python 3",
   "language": "python",
   "name": "python3"
  },
  "language_info": {
   "codemirror_mode": {
    "name": "ipython",
    "version": 3
   },
   "file_extension": ".py",
   "mimetype": "text/x-python",
   "name": "python",
   "nbconvert_exporter": "python",
   "pygments_lexer": "ipython3",
   "version": "3.8.3"
  },
  "rise": {
   "enable_chalkboard": true,
   "start_slideshow_at": "beginning",
   "theme": "monokai",
   "transition": "zoom"
  }
 },
 "nbformat": 4,
 "nbformat_minor": 4
}
